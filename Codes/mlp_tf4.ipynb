{
 "cells": [
  {
   "cell_type": "code",
   "execution_count": 1,
   "metadata": {},
   "outputs": [],
   "source": [
    "import tensorflow as tf\n",
    "from tensorflow import keras\n",
    "\n",
    "import matplotlib.pyplot as plt\n",
    "import numpy as np\n",
    "import pandas as pd\n",
    "import seaborn as sns\n",
    "\n",
    "import sklearn\n",
    "from sklearn.metrics import confusion_matrix\n",
    "from sklearn.model_selection import train_test_split\n",
    "from sklearn.preprocessing import StandardScaler\n"
   ]
  },
  {
   "cell_type": "code",
   "execution_count": 76,
   "metadata": {},
   "outputs": [],
   "source": [
    "# test_data = pd.read_csv('../DATA/test_normalized_4labels.csv', index_col=0)\n",
    "# training_data = pd.read_csv(\n",
    "#     '../DATA/train_normalized_4labels.csv', index_col=0)\n",
    "\n",
    "test_data = pd.read_csv('../DATA/test_downsampling.csv', index_col=0)\n",
    "training_data = pd.read_csv(\n",
    "    '../DATA/training_downsampling.csv', index_col=0)\n"
   ]
  },
  {
   "cell_type": "code",
   "execution_count": 77,
   "metadata": {},
   "outputs": [
    {
     "data": {
      "text/plain": [
       "array(['CERTIFIED', 'CERTIFIED-WITHDRAWN', 'DENIED', 'WITHDRAWN'],\n",
       "      dtype=object)"
      ]
     },
     "execution_count": 77,
     "metadata": {},
     "output_type": "execute_result"
    }
   ],
   "source": [
    "np.unique(test_data['CASE_STATUS'])"
   ]
  },
  {
   "cell_type": "code",
   "execution_count": 78,
   "metadata": {},
   "outputs": [],
   "source": [
    "labels = {'CERTIFIED': 0, 'CERTIFIED-WITHDRAWN': 1, 'DENIED': 2, 'WITHDRAWN':3}\n",
    "test_data['CASE_STATUS'] = test_data['CASE_STATUS'].apply(lambda x: labels[x])\n",
    "training_data['CASE_STATUS'] = training_data['CASE_STATUS'].apply(lambda x: labels[x])"
   ]
  },
  {
   "cell_type": "code",
   "execution_count": 79,
   "metadata": {},
   "outputs": [],
   "source": [
    "train_data, val_data = train_test_split(training_data, test_size=0.2)"
   ]
  },
  {
   "cell_type": "code",
   "execution_count": 80,
   "metadata": {},
   "outputs": [],
   "source": [
    "train_labels = np.array(train_data.pop('CASE_STATUS'))\n",
    "val_labels = np.array(val_data.pop('CASE_STATUS'))\n",
    "test_labels = np.array(test_data.pop('CASE_STATUS'))\n",
    "\n",
    "train_data.pop('EMPLOYER_NAME')\n",
    "test_data.pop('EMPLOYER_NAME')\n",
    "val_data.pop('EMPLOYER_NAME')\n",
    "\n",
    "train_features = np.array(train_data)\n",
    "val_features = np.array(val_data)\n",
    "test_features = np.array(test_data)\n",
    "\n"
   ]
  },
  {
   "cell_type": "code",
   "execution_count": 81,
   "metadata": {},
   "outputs": [],
   "source": [
    "transfer_dict = {0: [1,0,0,0],  1:[0,1,0,0], 2: [0,0,1,0], 3:[0,0,0,1]}\n",
    "train_labels = np.array([transfer_dict[i] for i in train_labels] )\n",
    "test_labels = np.array([transfer_dict[i] for i in test_labels] )\n",
    "val_labels = np.array([transfer_dict[i] for i in val_labels])\n"
   ]
  },
  {
   "cell_type": "code",
   "execution_count": 82,
   "metadata": {},
   "outputs": [
    {
     "name": "stdout",
     "output_type": "stream",
     "text": [
      "(79193, 420)\n",
      "(730531, 420)\n",
      "(19799, 420)\n",
      "(79193, 4)\n",
      "(730531, 4)\n",
      "(19799, 4)\n"
     ]
    }
   ],
   "source": [
    "print(train_features.shape)\n",
    "print(test_features.shape)\n",
    "print(val_features.shape)\n",
    "print(train_labels.shape)\n",
    "print(test_labels.shape)\n",
    "print(val_labels.shape)\n"
   ]
  },
  {
   "cell_type": "code",
   "execution_count": 114,
   "metadata": {},
   "outputs": [],
   "source": [
    "METRICS = [\n",
    "    keras.metrics.mean_squared_error,\n",
    "    keras.metrics.mean_absolute_error,\n",
    "    keras.metrics.mean_absolute_percentage_error,\n",
    "    keras.metrics.categorical_accuracy,\n",
    "]\n",
    "\n",
    "\n",
    "def make_model(metrics=METRICS, output_bias=None):\n",
    "  if output_bias is not None:\n",
    "    output_bias = tf.keras.initializers.Constant(output_bias)\n",
    "  model = keras.Sequential([\n",
    "      keras.layers.Dense(\n",
    "          256, activation='relu',\n",
    "          input_shape=(train_features.shape[-1],)),\n",
    "      keras.layers.Dense(\n",
    "          64, activation='relu'),\n",
    "      keras.layers.Dropout(0.5),\n",
    "      keras.layers.Dense(4, activation='softmax',\n",
    "                         bias_initializer=output_bias),\n",
    "  ])\n",
    "\n",
    "  model.compile(\n",
    "      optimizer=keras.optimizers.Adam(learning_rate=1e-3),\n",
    "      loss=keras.losses.CategoricalHinge(),\n",
    "      metrics=metrics)\n",
    "\n",
    "  return model\n"
   ]
  },
  {
   "cell_type": "code",
   "execution_count": 117,
   "metadata": {},
   "outputs": [
    {
     "name": "stdout",
     "output_type": "stream",
     "text": [
      "Model: \"sequential_14\"\n",
      "_________________________________________________________________\n",
      "Layer (type)                 Output Shape              Param #   \n",
      "=================================================================\n",
      "dense_42 (Dense)             (None, 256)               107776    \n",
      "_________________________________________________________________\n",
      "dense_43 (Dense)             (None, 64)                16448     \n",
      "_________________________________________________________________\n",
      "dropout_14 (Dropout)         (None, 64)                0         \n",
      "_________________________________________________________________\n",
      "dense_44 (Dense)             (None, 4)                 260       \n",
      "=================================================================\n",
      "Total params: 124,484\n",
      "Trainable params: 124,484\n",
      "Non-trainable params: 0\n",
      "_________________________________________________________________\n"
     ]
    }
   ],
   "source": [
    "EPOCHS = 100\n",
    "BATCH_SIZE = 2048\n",
    "\n",
    "early_stopping = tf.keras.callbacks.EarlyStopping(\n",
    "    monitor='val_categorical_accuracy',\n",
    "    verbose=1,\n",
    "    patience=10,\n",
    "    mode='max',\n",
    "    restore_best_weights=True)\n",
    "model = make_model()\n",
    "model.summary()\n"
   ]
  },
  {
   "cell_type": "code",
   "execution_count": 118,
   "metadata": {},
   "outputs": [
    {
     "name": "stdout",
     "output_type": "stream",
     "text": [
      "Epoch 1/100\n",
      "39/39 [==============================] - 1s 15ms/step - loss: 0.8140 - mean_squared_error: 0.1344 - mean_absolute_error: 0.2679 - mean_absolute_percentage_error: 133931992.0000 - categorical_accuracy: 0.5893 - val_loss: 0.6415 - val_mean_squared_error: 0.1106 - val_mean_absolute_error: 0.1895 - val_mean_absolute_percentage_error: 94739120.0000 - val_categorical_accuracy: 0.6878\n",
      "Epoch 2/100\n",
      "39/39 [==============================] - 0s 10ms/step - loss: 0.6149 - mean_squared_error: 0.1125 - mean_absolute_error: 0.1751 - mean_absolute_percentage_error: 87573848.0000 - categorical_accuracy: 0.6971 - val_loss: 0.5744 - val_mean_squared_error: 0.1103 - val_mean_absolute_error: 0.1607 - val_mean_absolute_percentage_error: 80335944.0000 - val_categorical_accuracy: 0.7107\n",
      "Epoch 3/100\n",
      "39/39 [==============================] - 0s 10ms/step - loss: 0.5650 - mean_squared_error: 0.1071 - mean_absolute_error: 0.1587 - mean_absolute_percentage_error: 79341600.0000 - categorical_accuracy: 0.7184 - val_loss: 0.5424 - val_mean_squared_error: 0.1053 - val_mean_absolute_error: 0.1520 - val_mean_absolute_percentage_error: 75993912.0000 - val_categorical_accuracy: 0.7265\n",
      "Epoch 4/100\n",
      "39/39 [==============================] - 0s 10ms/step - loss: 0.5347 - mean_squared_error: 0.1029 - mean_absolute_error: 0.1495 - mean_absolute_percentage_error: 74751544.0000 - categorical_accuracy: 0.7346 - val_loss: 0.5227 - val_mean_squared_error: 0.1031 - val_mean_absolute_error: 0.1457 - val_mean_absolute_percentage_error: 72865640.0000 - val_categorical_accuracy: 0.7363\n",
      "Epoch 5/100\n",
      "39/39 [==============================] - 0s 10ms/step - loss: 0.5153 - mean_squared_error: 0.1007 - mean_absolute_error: 0.1435 - mean_absolute_percentage_error: 71757144.0000 - categorical_accuracy: 0.7442 - val_loss: 0.5110 - val_mean_squared_error: 0.1027 - val_mean_absolute_error: 0.1412 - val_mean_absolute_percentage_error: 70618360.0000 - val_categorical_accuracy: 0.7439\n",
      "Epoch 6/100\n",
      "39/39 [==============================] - 0s 10ms/step - loss: 0.5014 - mean_squared_error: 0.0994 - mean_absolute_error: 0.1387 - mean_absolute_percentage_error: 69362592.0000 - categorical_accuracy: 0.7513 - val_loss: 0.5031 - val_mean_squared_error: 0.1022 - val_mean_absolute_error: 0.1386 - val_mean_absolute_percentage_error: 69277504.0000 - val_categorical_accuracy: 0.7484\n",
      "Epoch 7/100\n",
      "39/39 [==============================] - 0s 11ms/step - loss: 0.4914 - mean_squared_error: 0.0983 - mean_absolute_error: 0.1352 - mean_absolute_percentage_error: 67611200.0000 - categorical_accuracy: 0.7557 - val_loss: 0.4981 - val_mean_squared_error: 0.1006 - val_mean_absolute_error: 0.1381 - val_mean_absolute_percentage_error: 69062592.0000 - val_categorical_accuracy: 0.7485\n",
      "Epoch 8/100\n",
      "39/39 [==============================] - 0s 11ms/step - loss: 0.4828 - mean_squared_error: 0.0968 - mean_absolute_error: 0.1328 - mean_absolute_percentage_error: 66383052.0000 - categorical_accuracy: 0.7606 - val_loss: 0.4897 - val_mean_squared_error: 0.1001 - val_mean_absolute_error: 0.1334 - val_mean_absolute_percentage_error: 66692492.0000 - val_categorical_accuracy: 0.7532\n",
      "Epoch 9/100\n",
      "39/39 [==============================] - 0s 10ms/step - loss: 0.4752 - mean_squared_error: 0.0956 - mean_absolute_error: 0.1303 - mean_absolute_percentage_error: 65135088.0000 - categorical_accuracy: 0.7642 - val_loss: 0.4835 - val_mean_squared_error: 0.0991 - val_mean_absolute_error: 0.1325 - val_mean_absolute_percentage_error: 66230676.0000 - val_categorical_accuracy: 0.7560\n",
      "Epoch 10/100\n",
      "39/39 [==============================] - 0s 10ms/step - loss: 0.4699 - mean_squared_error: 0.0946 - mean_absolute_error: 0.1287 - mean_absolute_percentage_error: 64346296.0000 - categorical_accuracy: 0.7666 - val_loss: 0.4770 - val_mean_squared_error: 0.0967 - val_mean_absolute_error: 0.1298 - val_mean_absolute_percentage_error: 64901824.0000 - val_categorical_accuracy: 0.7622\n",
      "Epoch 11/100\n",
      "39/39 [==============================] - 0s 11ms/step - loss: 0.4589 - mean_squared_error: 0.0914 - mean_absolute_error: 0.1258 - mean_absolute_percentage_error: 62918260.0000 - categorical_accuracy: 0.7743 - val_loss: 0.4691 - val_mean_squared_error: 0.0957 - val_mean_absolute_error: 0.1275 - val_mean_absolute_percentage_error: 63755408.0000 - val_categorical_accuracy: 0.7638\n",
      "Epoch 12/100\n",
      "39/39 [==============================] - 0s 11ms/step - loss: 0.4518 - mean_squared_error: 0.0898 - mean_absolute_error: 0.1238 - mean_absolute_percentage_error: 61921052.0000 - categorical_accuracy: 0.7780 - val_loss: 0.4593 - val_mean_squared_error: 0.0927 - val_mean_absolute_error: 0.1249 - val_mean_absolute_percentage_error: 62457240.0000 - val_categorical_accuracy: 0.7728\n",
      "Epoch 13/100\n",
      "39/39 [==============================] - 0s 12ms/step - loss: 0.4417 - mean_squared_error: 0.0864 - mean_absolute_error: 0.1211 - mean_absolute_percentage_error: 60563144.0000 - categorical_accuracy: 0.7856 - val_loss: 0.4480 - val_mean_squared_error: 0.0883 - val_mean_absolute_error: 0.1220 - val_mean_absolute_percentage_error: 61019356.0000 - val_categorical_accuracy: 0.7812\n",
      "Epoch 14/100\n",
      "39/39 [==============================] - 0s 11ms/step - loss: 0.4286 - mean_squared_error: 0.0824 - mean_absolute_error: 0.1176 - mean_absolute_percentage_error: 58778600.0000 - categorical_accuracy: 0.7945 - val_loss: 0.4304 - val_mean_squared_error: 0.0820 - val_mean_absolute_error: 0.1188 - val_mean_absolute_percentage_error: 59379520.0000 - val_categorical_accuracy: 0.7934\n",
      "Epoch 15/100\n",
      "39/39 [==============================] - 0s 10ms/step - loss: 0.4146 - mean_squared_error: 0.0786 - mean_absolute_error: 0.1138 - mean_absolute_percentage_error: 56911316.0000 - categorical_accuracy: 0.8039 - val_loss: 0.4124 - val_mean_squared_error: 0.0779 - val_mean_absolute_error: 0.1134 - val_mean_absolute_percentage_error: 56676192.0000 - val_categorical_accuracy: 0.8044\n",
      "Epoch 16/100\n",
      "39/39 [==============================] - 0s 11ms/step - loss: 0.3996 - mean_squared_error: 0.0749 - mean_absolute_error: 0.1094 - mean_absolute_percentage_error: 54723036.0000 - categorical_accuracy: 0.8134 - val_loss: 0.3972 - val_mean_squared_error: 0.0758 - val_mean_absolute_error: 0.1083 - val_mean_absolute_percentage_error: 54158760.0000 - val_categorical_accuracy: 0.8111\n",
      "Epoch 17/100\n",
      "39/39 [==============================] - 0s 10ms/step - loss: 0.3840 - mean_squared_error: 0.0720 - mean_absolute_error: 0.1050 - mean_absolute_percentage_error: 52515500.0000 - categorical_accuracy: 0.8217 - val_loss: 0.3857 - val_mean_squared_error: 0.0745 - val_mean_absolute_error: 0.1046 - val_mean_absolute_percentage_error: 52294768.0000 - val_categorical_accuracy: 0.8162\n",
      "Epoch 18/100\n",
      "39/39 [==============================] - 0s 12ms/step - loss: 0.3714 - mean_squared_error: 0.0703 - mean_absolute_error: 0.1010 - mean_absolute_percentage_error: 50476656.0000 - categorical_accuracy: 0.8265 - val_loss: 0.3776 - val_mean_squared_error: 0.0738 - val_mean_absolute_error: 0.1015 - val_mean_absolute_percentage_error: 50728136.0000 - val_categorical_accuracy: 0.8184\n",
      "Epoch 19/100\n",
      "39/39 [==============================] - 0s 10ms/step - loss: 0.3612 - mean_squared_error: 0.0690 - mean_absolute_error: 0.0978 - mean_absolute_percentage_error: 48889184.0000 - categorical_accuracy: 0.8310 - val_loss: 0.3762 - val_mean_squared_error: 0.0754 - val_mean_absolute_error: 0.1002 - val_mean_absolute_percentage_error: 50082104.0000 - val_categorical_accuracy: 0.8185\n",
      "Epoch 20/100\n",
      "39/39 [==============================] - 0s 11ms/step - loss: 0.3553 - mean_squared_error: 0.0686 - mean_absolute_error: 0.0956 - mean_absolute_percentage_error: 47784192.0000 - categorical_accuracy: 0.8329 - val_loss: 0.3609 - val_mean_squared_error: 0.0728 - val_mean_absolute_error: 0.0962 - val_mean_absolute_percentage_error: 48080068.0000 - val_categorical_accuracy: 0.8239\n",
      "Epoch 21/100\n",
      "39/39 [==============================] - 0s 11ms/step - loss: 0.3475 - mean_squared_error: 0.0677 - mean_absolute_error: 0.0932 - mean_absolute_percentage_error: 46581584.0000 - categorical_accuracy: 0.8356 - val_loss: 0.3549 - val_mean_squared_error: 0.0721 - val_mean_absolute_error: 0.0940 - val_mean_absolute_percentage_error: 47010716.0000 - val_categorical_accuracy: 0.8262\n",
      "Epoch 22/100\n",
      "39/39 [==============================] - 0s 10ms/step - loss: 0.3428 - mean_squared_error: 0.0676 - mean_absolute_error: 0.0916 - mean_absolute_percentage_error: 45793704.0000 - categorical_accuracy: 0.8373 - val_loss: 0.3535 - val_mean_squared_error: 0.0725 - val_mean_absolute_error: 0.0932 - val_mean_absolute_percentage_error: 46619712.0000 - val_categorical_accuracy: 0.8274\n",
      "Epoch 23/100\n",
      "39/39 [==============================] - 0s 10ms/step - loss: 0.3367 - mean_squared_error: 0.0668 - mean_absolute_error: 0.0897 - mean_absolute_percentage_error: 44845060.0000 - categorical_accuracy: 0.8398 - val_loss: 0.3522 - val_mean_squared_error: 0.0716 - val_mean_absolute_error: 0.0932 - val_mean_absolute_percentage_error: 46617752.0000 - val_categorical_accuracy: 0.8291\n",
      "Epoch 24/100\n",
      "39/39 [==============================] - 0s 10ms/step - loss: 0.3339 - mean_squared_error: 0.0663 - mean_absolute_error: 0.0888 - mean_absolute_percentage_error: 44403632.0000 - categorical_accuracy: 0.8408 - val_loss: 0.3463 - val_mean_squared_error: 0.0717 - val_mean_absolute_error: 0.0910 - val_mean_absolute_percentage_error: 45501608.0000 - val_categorical_accuracy: 0.8303\n",
      "Epoch 25/100\n",
      "39/39 [==============================] - 0s 10ms/step - loss: 0.3281 - mean_squared_error: 0.0659 - mean_absolute_error: 0.0869 - mean_absolute_percentage_error: 43464532.0000 - categorical_accuracy: 0.8429 - val_loss: 0.3466 - val_mean_squared_error: 0.0721 - val_mean_absolute_error: 0.0909 - val_mean_absolute_percentage_error: 45442180.0000 - val_categorical_accuracy: 0.8292\n",
      "Epoch 26/100\n",
      "39/39 [==============================] - 0s 10ms/step - loss: 0.3259 - mean_squared_error: 0.0657 - mean_absolute_error: 0.0862 - mean_absolute_percentage_error: 43094828.0000 - categorical_accuracy: 0.8439 - val_loss: 0.3406 - val_mean_squared_error: 0.0719 - val_mean_absolute_error: 0.0890 - val_mean_absolute_percentage_error: 44513712.0000 - val_categorical_accuracy: 0.8326\n",
      "Epoch 27/100\n",
      "39/39 [==============================] - 0s 10ms/step - loss: 0.3220 - mean_squared_error: 0.0652 - mean_absolute_error: 0.0849 - mean_absolute_percentage_error: 42469140.0000 - categorical_accuracy: 0.8455 - val_loss: 0.3427 - val_mean_squared_error: 0.0724 - val_mean_absolute_error: 0.0896 - val_mean_absolute_percentage_error: 44803860.0000 - val_categorical_accuracy: 0.8297\n",
      "Epoch 28/100\n",
      "39/39 [==============================] - 0s 10ms/step - loss: 0.3194 - mean_squared_error: 0.0648 - mean_absolute_error: 0.0842 - mean_absolute_percentage_error: 42110384.0000 - categorical_accuracy: 0.8468 - val_loss: 0.3398 - val_mean_squared_error: 0.0714 - val_mean_absolute_error: 0.0889 - val_mean_absolute_percentage_error: 44427800.0000 - val_categorical_accuracy: 0.8315\n",
      "Epoch 29/100\n",
      "39/39 [==============================] - 0s 10ms/step - loss: 0.3167 - mean_squared_error: 0.0644 - mean_absolute_error: 0.0834 - mean_absolute_percentage_error: 41700888.0000 - categorical_accuracy: 0.8481 - val_loss: 0.3395 - val_mean_squared_error: 0.0706 - val_mean_absolute_error: 0.0889 - val_mean_absolute_percentage_error: 44428948.0000 - val_categorical_accuracy: 0.8321\n",
      "Epoch 30/100\n",
      "39/39 [==============================] - 0s 10ms/step - loss: 0.3127 - mean_squared_error: 0.0638 - mean_absolute_error: 0.0823 - mean_absolute_percentage_error: 41130896.0000 - categorical_accuracy: 0.8494 - val_loss: 0.3387 - val_mean_squared_error: 0.0717 - val_mean_absolute_error: 0.0882 - val_mean_absolute_percentage_error: 44115140.0000 - val_categorical_accuracy: 0.8319\n",
      "Epoch 31/100\n",
      "39/39 [==============================] - 0s 11ms/step - loss: 0.3123 - mean_squared_error: 0.0639 - mean_absolute_error: 0.0820 - mean_absolute_percentage_error: 41006564.0000 - categorical_accuracy: 0.8502 - val_loss: 0.3387 - val_mean_squared_error: 0.0707 - val_mean_absolute_error: 0.0883 - val_mean_absolute_percentage_error: 44136264.0000 - val_categorical_accuracy: 0.8333\n",
      "Epoch 32/100\n",
      "39/39 [==============================] - 0s 10ms/step - loss: 0.3103 - mean_squared_error: 0.0638 - mean_absolute_error: 0.0813 - mean_absolute_percentage_error: 40664524.0000 - categorical_accuracy: 0.8503 - val_loss: 0.3360 - val_mean_squared_error: 0.0711 - val_mean_absolute_error: 0.0874 - val_mean_absolute_percentage_error: 43718096.0000 - val_categorical_accuracy: 0.8327\n",
      "Epoch 33/100\n",
      "39/39 [==============================] - 0s 10ms/step - loss: 0.3072 - mean_squared_error: 0.0631 - mean_absolute_error: 0.0804 - mean_absolute_percentage_error: 40197824.0000 - categorical_accuracy: 0.8522 - val_loss: 0.3356 - val_mean_squared_error: 0.0721 - val_mean_absolute_error: 0.0870 - val_mean_absolute_percentage_error: 43490240.0000 - val_categorical_accuracy: 0.8331\n",
      "Epoch 34/100\n",
      "39/39 [==============================] - 0s 11ms/step - loss: 0.3051 - mean_squared_error: 0.0631 - mean_absolute_error: 0.0798 - mean_absolute_percentage_error: 39901936.0000 - categorical_accuracy: 0.8525 - val_loss: 0.3325 - val_mean_squared_error: 0.0709 - val_mean_absolute_error: 0.0863 - val_mean_absolute_percentage_error: 43131920.0000 - val_categorical_accuracy: 0.8339\n",
      "Epoch 35/100\n",
      "39/39 [==============================] - 0s 10ms/step - loss: 0.3013 - mean_squared_error: 0.0621 - mean_absolute_error: 0.0788 - mean_absolute_percentage_error: 39398596.0000 - categorical_accuracy: 0.8546 - val_loss: 0.3316 - val_mean_squared_error: 0.0710 - val_mean_absolute_error: 0.0858 - val_mean_absolute_percentage_error: 42903476.0000 - val_categorical_accuracy: 0.8357\n",
      "Epoch 36/100\n",
      "39/39 [==============================] - 0s 10ms/step - loss: 0.2996 - mean_squared_error: 0.0618 - mean_absolute_error: 0.0783 - mean_absolute_percentage_error: 39139972.0000 - categorical_accuracy: 0.8556 - val_loss: 0.3314 - val_mean_squared_error: 0.0711 - val_mean_absolute_error: 0.0858 - val_mean_absolute_percentage_error: 42924468.0000 - val_categorical_accuracy: 0.8347\n",
      "Epoch 37/100\n",
      "39/39 [==============================] - 0s 10ms/step - loss: 0.2966 - mean_squared_error: 0.0613 - mean_absolute_error: 0.0774 - mean_absolute_percentage_error: 38684012.0000 - categorical_accuracy: 0.8571 - val_loss: 0.3293 - val_mean_squared_error: 0.0714 - val_mean_absolute_error: 0.0849 - val_mean_absolute_percentage_error: 42463536.0000 - val_categorical_accuracy: 0.8367\n",
      "Epoch 38/100\n",
      "39/39 [==============================] - 0s 10ms/step - loss: 0.2973 - mean_squared_error: 0.0619 - mean_absolute_error: 0.0775 - mean_absolute_percentage_error: 38750236.0000 - categorical_accuracy: 0.8563 - val_loss: 0.3299 - val_mean_squared_error: 0.0702 - val_mean_absolute_error: 0.0856 - val_mean_absolute_percentage_error: 42796292.0000 - val_categorical_accuracy: 0.8370\n",
      "Epoch 39/100\n",
      "39/39 [==============================] - 0s 11ms/step - loss: 0.2938 - mean_squared_error: 0.0609 - mean_absolute_error: 0.0766 - mean_absolute_percentage_error: 38294544.0000 - categorical_accuracy: 0.8585 - val_loss: 0.3337 - val_mean_squared_error: 0.0716 - val_mean_absolute_error: 0.0862 - val_mean_absolute_percentage_error: 43120280.0000 - val_categorical_accuracy: 0.8338\n",
      "Epoch 40/100\n",
      "39/39 [==============================] - 0s 10ms/step - loss: 0.2928 - mean_squared_error: 0.0609 - mean_absolute_error: 0.0763 - mean_absolute_percentage_error: 38159196.0000 - categorical_accuracy: 0.8589 - val_loss: 0.3325 - val_mean_squared_error: 0.0710 - val_mean_absolute_error: 0.0858 - val_mean_absolute_percentage_error: 42901888.0000 - val_categorical_accuracy: 0.8340\n",
      "Epoch 41/100\n",
      "39/39 [==============================] - 0s 10ms/step - loss: 0.2902 - mean_squared_error: 0.0603 - mean_absolute_error: 0.0755 - mean_absolute_percentage_error: 37750184.0000 - categorical_accuracy: 0.8593 - val_loss: 0.3290 - val_mean_squared_error: 0.0706 - val_mean_absolute_error: 0.0849 - val_mean_absolute_percentage_error: 42457176.0000 - val_categorical_accuracy: 0.8367\n",
      "Epoch 42/100\n",
      "39/39 [==============================] - 0s 10ms/step - loss: 0.2892 - mean_squared_error: 0.0600 - mean_absolute_error: 0.0752 - mean_absolute_percentage_error: 37600068.0000 - categorical_accuracy: 0.8612 - val_loss: 0.3272 - val_mean_squared_error: 0.0704 - val_mean_absolute_error: 0.0841 - val_mean_absolute_percentage_error: 42069264.0000 - val_categorical_accuracy: 0.8380\n",
      "Epoch 43/100\n",
      "39/39 [==============================] - 0s 10ms/step - loss: 0.2881 - mean_squared_error: 0.0602 - mean_absolute_error: 0.0748 - mean_absolute_percentage_error: 37377188.0000 - categorical_accuracy: 0.8618 - val_loss: 0.3268 - val_mean_squared_error: 0.0702 - val_mean_absolute_error: 0.0843 - val_mean_absolute_percentage_error: 42152860.0000 - val_categorical_accuracy: 0.8374\n",
      "Epoch 44/100\n",
      "39/39 [==============================] - 0s 11ms/step - loss: 0.2853 - mean_squared_error: 0.0596 - mean_absolute_error: 0.0741 - mean_absolute_percentage_error: 37034132.0000 - categorical_accuracy: 0.8627 - val_loss: 0.3282 - val_mean_squared_error: 0.0706 - val_mean_absolute_error: 0.0843 - val_mean_absolute_percentage_error: 42167648.0000 - val_categorical_accuracy: 0.8371\n",
      "Epoch 45/100\n",
      "39/39 [==============================] - 0s 11ms/step - loss: 0.2864 - mean_squared_error: 0.0601 - mean_absolute_error: 0.0741 - mean_absolute_percentage_error: 37069548.0000 - categorical_accuracy: 0.8614 - val_loss: 0.3295 - val_mean_squared_error: 0.0717 - val_mean_absolute_error: 0.0848 - val_mean_absolute_percentage_error: 42405328.0000 - val_categorical_accuracy: 0.8355\n",
      "Epoch 46/100\n",
      "39/39 [==============================] - 0s 10ms/step - loss: 0.2831 - mean_squared_error: 0.0591 - mean_absolute_error: 0.0734 - mean_absolute_percentage_error: 36711752.0000 - categorical_accuracy: 0.8638 - val_loss: 0.3228 - val_mean_squared_error: 0.0710 - val_mean_absolute_error: 0.0828 - val_mean_absolute_percentage_error: 41382604.0000 - val_categorical_accuracy: 0.8392\n",
      "Epoch 47/100\n",
      "39/39 [==============================] - 0s 12ms/step - loss: 0.2825 - mean_squared_error: 0.0596 - mean_absolute_error: 0.0731 - mean_absolute_percentage_error: 36534216.0000 - categorical_accuracy: 0.8637 - val_loss: 0.3242 - val_mean_squared_error: 0.0703 - val_mean_absolute_error: 0.0834 - val_mean_absolute_percentage_error: 41677624.0000 - val_categorical_accuracy: 0.8392\n",
      "Epoch 48/100\n",
      "39/39 [==============================] - 0s 11ms/step - loss: 0.2800 - mean_squared_error: 0.0586 - mean_absolute_error: 0.0725 - mean_absolute_percentage_error: 36253768.0000 - categorical_accuracy: 0.8652 - val_loss: 0.3229 - val_mean_squared_error: 0.0709 - val_mean_absolute_error: 0.0828 - val_mean_absolute_percentage_error: 41377068.0000 - val_categorical_accuracy: 0.8392\n",
      "Epoch 49/100\n",
      "39/39 [==============================] - 0s 11ms/step - loss: 0.2778 - mean_squared_error: 0.0583 - mean_absolute_error: 0.0719 - mean_absolute_percentage_error: 35958156.0000 - categorical_accuracy: 0.8667 - val_loss: 0.3238 - val_mean_squared_error: 0.0698 - val_mean_absolute_error: 0.0832 - val_mean_absolute_percentage_error: 41582416.0000 - val_categorical_accuracy: 0.8388\n",
      "Epoch 50/100\n",
      "39/39 [==============================] - 0s 11ms/step - loss: 0.2761 - mean_squared_error: 0.0582 - mean_absolute_error: 0.0714 - mean_absolute_percentage_error: 35714288.0000 - categorical_accuracy: 0.8668 - val_loss: 0.3237 - val_mean_squared_error: 0.0713 - val_mean_absolute_error: 0.0829 - val_mean_absolute_percentage_error: 41440668.0000 - val_categorical_accuracy: 0.8387\n",
      "Epoch 51/100\n",
      "39/39 [==============================] - 0s 11ms/step - loss: 0.2735 - mean_squared_error: 0.0576 - mean_absolute_error: 0.0707 - mean_absolute_percentage_error: 35334108.0000 - categorical_accuracy: 0.8686 - val_loss: 0.3249 - val_mean_squared_error: 0.0712 - val_mean_absolute_error: 0.0832 - val_mean_absolute_percentage_error: 41599776.0000 - val_categorical_accuracy: 0.8389\n",
      "Epoch 52/100\n",
      "39/39 [==============================] - 0s 11ms/step - loss: 0.2725 - mean_squared_error: 0.0576 - mean_absolute_error: 0.0703 - mean_absolute_percentage_error: 35159968.0000 - categorical_accuracy: 0.8692 - val_loss: 0.3272 - val_mean_squared_error: 0.0714 - val_mean_absolute_error: 0.0837 - val_mean_absolute_percentage_error: 41871228.0000 - val_categorical_accuracy: 0.8362\n",
      "Epoch 53/100\n",
      "39/39 [==============================] - 0s 10ms/step - loss: 0.2713 - mean_squared_error: 0.0575 - mean_absolute_error: 0.0700 - mean_absolute_percentage_error: 34990352.0000 - categorical_accuracy: 0.8694 - val_loss: 0.3228 - val_mean_squared_error: 0.0703 - val_mean_absolute_error: 0.0827 - val_mean_absolute_percentage_error: 41336672.0000 - val_categorical_accuracy: 0.8400\n",
      "Epoch 54/100\n",
      "39/39 [==============================] - 0s 10ms/step - loss: 0.2689 - mean_squared_error: 0.0570 - mean_absolute_error: 0.0694 - mean_absolute_percentage_error: 34689064.0000 - categorical_accuracy: 0.8708 - val_loss: 0.3224 - val_mean_squared_error: 0.0699 - val_mean_absolute_error: 0.0827 - val_mean_absolute_percentage_error: 41359924.0000 - val_categorical_accuracy: 0.8403\n",
      "Epoch 55/100\n",
      "39/39 [==============================] - 0s 11ms/step - loss: 0.2695 - mean_squared_error: 0.0573 - mean_absolute_error: 0.0695 - mean_absolute_percentage_error: 34738480.0000 - categorical_accuracy: 0.8705 - val_loss: 0.3209 - val_mean_squared_error: 0.0704 - val_mean_absolute_error: 0.0820 - val_mean_absolute_percentage_error: 40994360.0000 - val_categorical_accuracy: 0.8404\n",
      "Epoch 56/100\n",
      "39/39 [==============================] - 0s 11ms/step - loss: 0.2682 - mean_squared_error: 0.0572 - mean_absolute_error: 0.0691 - mean_absolute_percentage_error: 34534144.0000 - categorical_accuracy: 0.8706 - val_loss: 0.3238 - val_mean_squared_error: 0.0722 - val_mean_absolute_error: 0.0826 - val_mean_absolute_percentage_error: 41297144.0000 - val_categorical_accuracy: 0.8383\n",
      "Epoch 57/100\n",
      "39/39 [==============================] - 0s 11ms/step - loss: 0.2658 - mean_squared_error: 0.0568 - mean_absolute_error: 0.0684 - mean_absolute_percentage_error: 34202676.0000 - categorical_accuracy: 0.8726 - val_loss: 0.3202 - val_mean_squared_error: 0.0701 - val_mean_absolute_error: 0.0818 - val_mean_absolute_percentage_error: 40888980.0000 - val_categorical_accuracy: 0.8412\n",
      "Epoch 58/100\n",
      "39/39 [==============================] - 0s 11ms/step - loss: 0.2646 - mean_squared_error: 0.0563 - mean_absolute_error: 0.0681 - mean_absolute_percentage_error: 34063452.0000 - categorical_accuracy: 0.8727 - val_loss: 0.3195 - val_mean_squared_error: 0.0704 - val_mean_absolute_error: 0.0816 - val_mean_absolute_percentage_error: 40778400.0000 - val_categorical_accuracy: 0.8414\n",
      "Epoch 59/100\n",
      "39/39 [==============================] - 0s 11ms/step - loss: 0.2658 - mean_squared_error: 0.0566 - mean_absolute_error: 0.0684 - mean_absolute_percentage_error: 34217816.0000 - categorical_accuracy: 0.8721 - val_loss: 0.3216 - val_mean_squared_error: 0.0719 - val_mean_absolute_error: 0.0820 - val_mean_absolute_percentage_error: 41018348.0000 - val_categorical_accuracy: 0.8400\n",
      "Epoch 60/100\n",
      "39/39 [==============================] - 0s 10ms/step - loss: 0.2626 - mean_squared_error: 0.0563 - mean_absolute_error: 0.0675 - mean_absolute_percentage_error: 33737408.0000 - categorical_accuracy: 0.8740 - val_loss: 0.3202 - val_mean_squared_error: 0.0709 - val_mean_absolute_error: 0.0817 - val_mean_absolute_percentage_error: 40862724.0000 - val_categorical_accuracy: 0.8403\n",
      "Epoch 61/100\n",
      "39/39 [==============================] - 0s 10ms/step - loss: 0.2607 - mean_squared_error: 0.0558 - mean_absolute_error: 0.0670 - mean_absolute_percentage_error: 33513078.0000 - categorical_accuracy: 0.8749 - val_loss: 0.3240 - val_mean_squared_error: 0.0720 - val_mean_absolute_error: 0.0827 - val_mean_absolute_percentage_error: 41363352.0000 - val_categorical_accuracy: 0.8397\n",
      "Epoch 62/100\n",
      "39/39 [==============================] - 0s 11ms/step - loss: 0.2600 - mean_squared_error: 0.0559 - mean_absolute_error: 0.0668 - mean_absolute_percentage_error: 33397688.0000 - categorical_accuracy: 0.8753 - val_loss: 0.3173 - val_mean_squared_error: 0.0704 - val_mean_absolute_error: 0.0809 - val_mean_absolute_percentage_error: 40466520.0000 - val_categorical_accuracy: 0.8414\n",
      "Epoch 63/100\n",
      "39/39 [==============================] - 0s 11ms/step - loss: 0.2595 - mean_squared_error: 0.0556 - mean_absolute_error: 0.0667 - mean_absolute_percentage_error: 33329706.0000 - categorical_accuracy: 0.8752 - val_loss: 0.3202 - val_mean_squared_error: 0.0716 - val_mean_absolute_error: 0.0815 - val_mean_absolute_percentage_error: 40769064.0000 - val_categorical_accuracy: 0.8406\n",
      "Epoch 64/100\n",
      "39/39 [==============================] - 0s 12ms/step - loss: 0.2607 - mean_squared_error: 0.0560 - mean_absolute_error: 0.0670 - mean_absolute_percentage_error: 33476616.0000 - categorical_accuracy: 0.8745 - val_loss: 0.3205 - val_mean_squared_error: 0.0714 - val_mean_absolute_error: 0.0817 - val_mean_absolute_percentage_error: 40871520.0000 - val_categorical_accuracy: 0.8395\n",
      "Epoch 65/100\n",
      "39/39 [==============================] - 0s 12ms/step - loss: 0.2576 - mean_squared_error: 0.0555 - mean_absolute_error: 0.0662 - mean_absolute_percentage_error: 33084326.0000 - categorical_accuracy: 0.8758 - val_loss: 0.3167 - val_mean_squared_error: 0.0706 - val_mean_absolute_error: 0.0808 - val_mean_absolute_percentage_error: 40387976.0000 - val_categorical_accuracy: 0.8419\n",
      "Epoch 66/100\n",
      "39/39 [==============================] - 1s 14ms/step - loss: 0.2556 - mean_squared_error: 0.0550 - mean_absolute_error: 0.0657 - mean_absolute_percentage_error: 32829006.0000 - categorical_accuracy: 0.8767 - val_loss: 0.3184 - val_mean_squared_error: 0.0711 - val_mean_absolute_error: 0.0811 - val_mean_absolute_percentage_error: 40535048.0000 - val_categorical_accuracy: 0.8417\n",
      "Epoch 67/100\n",
      "39/39 [==============================] - 1s 14ms/step - loss: 0.2560 - mean_squared_error: 0.0553 - mean_absolute_error: 0.0657 - mean_absolute_percentage_error: 32839126.0000 - categorical_accuracy: 0.8765 - val_loss: 0.3167 - val_mean_squared_error: 0.0707 - val_mean_absolute_error: 0.0806 - val_mean_absolute_percentage_error: 40316720.0000 - val_categorical_accuracy: 0.8421\n",
      "Epoch 68/100\n",
      "39/39 [==============================] - 1s 15ms/step - loss: 0.2528 - mean_squared_error: 0.0547 - mean_absolute_error: 0.0648 - mean_absolute_percentage_error: 32407084.0000 - categorical_accuracy: 0.8779 - val_loss: 0.3204 - val_mean_squared_error: 0.0716 - val_mean_absolute_error: 0.0815 - val_mean_absolute_percentage_error: 40764560.0000 - val_categorical_accuracy: 0.8394\n",
      "Epoch 69/100\n",
      "39/39 [==============================] - 1s 15ms/step - loss: 0.2522 - mean_squared_error: 0.0546 - mean_absolute_error: 0.0647 - mean_absolute_percentage_error: 32359344.0000 - categorical_accuracy: 0.8788 - val_loss: 0.3225 - val_mean_squared_error: 0.0719 - val_mean_absolute_error: 0.0821 - val_mean_absolute_percentage_error: 41043552.0000 - val_categorical_accuracy: 0.8398\n",
      "Epoch 70/100\n",
      "39/39 [==============================] - 1s 17ms/step - loss: 0.2492 - mean_squared_error: 0.0539 - mean_absolute_error: 0.0639 - mean_absolute_percentage_error: 31962216.0000 - categorical_accuracy: 0.8806 - val_loss: 0.3173 - val_mean_squared_error: 0.0710 - val_mean_absolute_error: 0.0807 - val_mean_absolute_percentage_error: 40357560.0000 - val_categorical_accuracy: 0.8416\n",
      "Epoch 71/100\n",
      "39/39 [==============================] - 1s 17ms/step - loss: 0.2483 - mean_squared_error: 0.0538 - mean_absolute_error: 0.0636 - mean_absolute_percentage_error: 31800824.0000 - categorical_accuracy: 0.8810 - val_loss: 0.3171 - val_mean_squared_error: 0.0710 - val_mean_absolute_error: 0.0807 - val_mean_absolute_percentage_error: 40352780.0000 - val_categorical_accuracy: 0.8425\n",
      "Epoch 72/100\n",
      "39/39 [==============================] - 1s 18ms/step - loss: 0.2520 - mean_squared_error: 0.0548 - mean_absolute_error: 0.0645 - mean_absolute_percentage_error: 32252374.0000 - categorical_accuracy: 0.8789 - val_loss: 0.3176 - val_mean_squared_error: 0.0714 - val_mean_absolute_error: 0.0807 - val_mean_absolute_percentage_error: 40332976.0000 - val_categorical_accuracy: 0.8418\n",
      "Epoch 73/100\n",
      "39/39 [==============================] - 1s 19ms/step - loss: 0.2480 - mean_squared_error: 0.0539 - mean_absolute_error: 0.0635 - mean_absolute_percentage_error: 31758792.0000 - categorical_accuracy: 0.8811 - val_loss: 0.3189 - val_mean_squared_error: 0.0715 - val_mean_absolute_error: 0.0811 - val_mean_absolute_percentage_error: 40533432.0000 - val_categorical_accuracy: 0.8416\n",
      "Epoch 74/100\n",
      "39/39 [==============================] - 1s 21ms/step - loss: 0.2489 - mean_squared_error: 0.0544 - mean_absolute_error: 0.0637 - mean_absolute_percentage_error: 31847456.0000 - categorical_accuracy: 0.8795 - val_loss: 0.3240 - val_mean_squared_error: 0.0733 - val_mean_absolute_error: 0.0825 - val_mean_absolute_percentage_error: 41231440.0000 - val_categorical_accuracy: 0.8377\n",
      "Epoch 75/100\n",
      "39/39 [==============================] - 1s 22ms/step - loss: 0.2506 - mean_squared_error: 0.0547 - mean_absolute_error: 0.0641 - mean_absolute_percentage_error: 32072546.0000 - categorical_accuracy: 0.8788 - val_loss: 0.3174 - val_mean_squared_error: 0.0718 - val_mean_absolute_error: 0.0807 - val_mean_absolute_percentage_error: 40330376.0000 - val_categorical_accuracy: 0.8412\n",
      "Epoch 76/100\n",
      "39/39 [==============================] - 1s 23ms/step - loss: 0.2489 - mean_squared_error: 0.0544 - mean_absolute_error: 0.0636 - mean_absolute_percentage_error: 31819790.0000 - categorical_accuracy: 0.8795 - val_loss: 0.3178 - val_mean_squared_error: 0.0722 - val_mean_absolute_error: 0.0807 - val_mean_absolute_percentage_error: 40332928.0000 - val_categorical_accuracy: 0.8409\n",
      "Epoch 77/100\n",
      "39/39 [==============================] - 1s 27ms/step - loss: 0.2481 - mean_squared_error: 0.0543 - mean_absolute_error: 0.0635 - mean_absolute_percentage_error: 31753744.0000 - categorical_accuracy: 0.8797 - val_loss: 0.3203 - val_mean_squared_error: 0.0730 - val_mean_absolute_error: 0.0814 - val_mean_absolute_percentage_error: 40679236.0000 - val_categorical_accuracy: 0.8405\n",
      "Epoch 78/100\n",
      "39/39 [==============================] - 1s 28ms/step - loss: 0.2473 - mean_squared_error: 0.0541 - mean_absolute_error: 0.0633 - mean_absolute_percentage_error: 31628314.0000 - categorical_accuracy: 0.8809 - val_loss: 0.3186 - val_mean_squared_error: 0.0719 - val_mean_absolute_error: 0.0809 - val_mean_absolute_percentage_error: 40451012.0000 - val_categorical_accuracy: 0.8411\n",
      "Epoch 79/100\n",
      "39/39 [==============================] - 2s 39ms/step - loss: 0.2422 - mean_squared_error: 0.0531 - mean_absolute_error: 0.0619 - mean_absolute_percentage_error: 30955436.0000 - categorical_accuracy: 0.8833 - val_loss: 0.3145 - val_mean_squared_error: 0.0712 - val_mean_absolute_error: 0.0797 - val_mean_absolute_percentage_error: 39874280.0000 - val_categorical_accuracy: 0.8435\n",
      "Epoch 80/100\n",
      "39/39 [==============================] - 2s 43ms/step - loss: 0.2422 - mean_squared_error: 0.0531 - mean_absolute_error: 0.0619 - mean_absolute_percentage_error: 30929152.0000 - categorical_accuracy: 0.8831 - val_loss: 0.3172 - val_mean_squared_error: 0.0715 - val_mean_absolute_error: 0.0806 - val_mean_absolute_percentage_error: 40284352.0000 - val_categorical_accuracy: 0.8411\n",
      "Epoch 81/100\n",
      "39/39 [==============================] - 2s 44ms/step - loss: 0.2418 - mean_squared_error: 0.0531 - mean_absolute_error: 0.0617 - mean_absolute_percentage_error: 30872810.0000 - categorical_accuracy: 0.8835 - val_loss: 0.3166 - val_mean_squared_error: 0.0721 - val_mean_absolute_error: 0.0804 - val_mean_absolute_percentage_error: 40211696.0000 - val_categorical_accuracy: 0.8414\n",
      "Epoch 82/100\n",
      "39/39 [==============================] - 2s 48ms/step - loss: 0.2433 - mean_squared_error: 0.0537 - mean_absolute_error: 0.0621 - mean_absolute_percentage_error: 31072530.0000 - categorical_accuracy: 0.8822 - val_loss: 0.3157 - val_mean_squared_error: 0.0719 - val_mean_absolute_error: 0.0801 - val_mean_absolute_percentage_error: 40034600.0000 - val_categorical_accuracy: 0.8429\n",
      "Epoch 83/100\n",
      "39/39 [==============================] - 2s 45ms/step - loss: 0.2417 - mean_squared_error: 0.0533 - mean_absolute_error: 0.0617 - mean_absolute_percentage_error: 30848248.0000 - categorical_accuracy: 0.8832 - val_loss: 0.3177 - val_mean_squared_error: 0.0723 - val_mean_absolute_error: 0.0805 - val_mean_absolute_percentage_error: 40247108.0000 - val_categorical_accuracy: 0.8409\n",
      "Epoch 84/100\n",
      "39/39 [==============================] - 2s 44ms/step - loss: 0.2412 - mean_squared_error: 0.0533 - mean_absolute_error: 0.0615 - mean_absolute_percentage_error: 30772988.0000 - categorical_accuracy: 0.8837 - val_loss: 0.3166 - val_mean_squared_error: 0.0715 - val_mean_absolute_error: 0.0804 - val_mean_absolute_percentage_error: 40184788.0000 - val_categorical_accuracy: 0.8421\n",
      "Epoch 85/100\n",
      "39/39 [==============================] - 2s 46ms/step - loss: 0.2425 - mean_squared_error: 0.0537 - mean_absolute_error: 0.0619 - mean_absolute_percentage_error: 30928460.0000 - categorical_accuracy: 0.8826 - val_loss: 0.3232 - val_mean_squared_error: 0.0733 - val_mean_absolute_error: 0.0820 - val_mean_absolute_percentage_error: 40991400.0000 - val_categorical_accuracy: 0.8391\n",
      "Epoch 86/100\n",
      "39/39 [==============================] - 2s 43ms/step - loss: 0.2395 - mean_squared_error: 0.0529 - mean_absolute_error: 0.0611 - mean_absolute_percentage_error: 30550370.0000 - categorical_accuracy: 0.8842 - val_loss: 0.3139 - val_mean_squared_error: 0.0716 - val_mean_absolute_error: 0.0796 - val_mean_absolute_percentage_error: 39800216.0000 - val_categorical_accuracy: 0.8441\n",
      "Epoch 87/100\n",
      "39/39 [==============================] - 1s 38ms/step - loss: 0.2364 - mean_squared_error: 0.0524 - mean_absolute_error: 0.0603 - mean_absolute_percentage_error: 30138896.0000 - categorical_accuracy: 0.8855 - val_loss: 0.3171 - val_mean_squared_error: 0.0725 - val_mean_absolute_error: 0.0803 - val_mean_absolute_percentage_error: 40151124.0000 - val_categorical_accuracy: 0.8412\n",
      "Epoch 88/100\n",
      "39/39 [==============================] - 1s 35ms/step - loss: 0.2374 - mean_squared_error: 0.0527 - mean_absolute_error: 0.0605 - mean_absolute_percentage_error: 30262728.0000 - categorical_accuracy: 0.8853 - val_loss: 0.3138 - val_mean_squared_error: 0.0716 - val_mean_absolute_error: 0.0795 - val_mean_absolute_percentage_error: 39762692.0000 - val_categorical_accuracy: 0.8426\n",
      "Epoch 89/100\n",
      "39/39 [==============================] - 1s 30ms/step - loss: 0.2360 - mean_squared_error: 0.0525 - mean_absolute_error: 0.0602 - mean_absolute_percentage_error: 30096334.0000 - categorical_accuracy: 0.8855 - val_loss: 0.3163 - val_mean_squared_error: 0.0723 - val_mean_absolute_error: 0.0801 - val_mean_absolute_percentage_error: 40040280.0000 - val_categorical_accuracy: 0.8423\n",
      "Epoch 90/100\n",
      "39/39 [==============================] - 1s 28ms/step - loss: 0.2361 - mean_squared_error: 0.0524 - mean_absolute_error: 0.0602 - mean_absolute_percentage_error: 30109526.0000 - categorical_accuracy: 0.8852 - val_loss: 0.3145 - val_mean_squared_error: 0.0720 - val_mean_absolute_error: 0.0796 - val_mean_absolute_percentage_error: 39808356.0000 - val_categorical_accuracy: 0.8421\n",
      "Epoch 91/100\n",
      "39/39 [==============================] - 1s 26ms/step - loss: 0.2343 - mean_squared_error: 0.0521 - mean_absolute_error: 0.0597 - mean_absolute_percentage_error: 29841258.0000 - categorical_accuracy: 0.8868 - val_loss: 0.3189 - val_mean_squared_error: 0.0729 - val_mean_absolute_error: 0.0808 - val_mean_absolute_percentage_error: 40413460.0000 - val_categorical_accuracy: 0.8403\n",
      "Epoch 92/100\n",
      "39/39 [==============================] - 1s 24ms/step - loss: 0.2358 - mean_squared_error: 0.0525 - mean_absolute_error: 0.0601 - mean_absolute_percentage_error: 30046056.0000 - categorical_accuracy: 0.8861 - val_loss: 0.3197 - val_mean_squared_error: 0.0732 - val_mean_absolute_error: 0.0810 - val_mean_absolute_percentage_error: 40514400.0000 - val_categorical_accuracy: 0.8394\n",
      "Epoch 93/100\n",
      "39/39 [==============================] - 1s 23ms/step - loss: 0.2353 - mean_squared_error: 0.0524 - mean_absolute_error: 0.0600 - mean_absolute_percentage_error: 29996058.0000 - categorical_accuracy: 0.8858 - val_loss: 0.3178 - val_mean_squared_error: 0.0730 - val_mean_absolute_error: 0.0805 - val_mean_absolute_percentage_error: 40264820.0000 - val_categorical_accuracy: 0.8419\n",
      "Epoch 94/100\n",
      "39/39 [==============================] - 1s 21ms/step - loss: 0.2333 - mean_squared_error: 0.0521 - mean_absolute_error: 0.0594 - mean_absolute_percentage_error: 29710856.0000 - categorical_accuracy: 0.8867 - val_loss: 0.3181 - val_mean_squared_error: 0.0726 - val_mean_absolute_error: 0.0806 - val_mean_absolute_percentage_error: 40296428.0000 - val_categorical_accuracy: 0.8406\n",
      "Epoch 95/100\n",
      "39/39 [==============================] - 1s 21ms/step - loss: 0.2322 - mean_squared_error: 0.0519 - mean_absolute_error: 0.0591 - mean_absolute_percentage_error: 29564400.0000 - categorical_accuracy: 0.8870 - val_loss: 0.3155 - val_mean_squared_error: 0.0728 - val_mean_absolute_error: 0.0798 - val_mean_absolute_percentage_error: 39920912.0000 - val_categorical_accuracy: 0.8417\n",
      "Epoch 96/100\n",
      "39/39 [==============================] - 1s 20ms/step - loss: 0.2313 - mean_squared_error: 0.0518 - mean_absolute_error: 0.0589 - mean_absolute_percentage_error: 29436262.0000 - categorical_accuracy: 0.8878 - val_loss: 0.3191 - val_mean_squared_error: 0.0729 - val_mean_absolute_error: 0.0808 - val_mean_absolute_percentage_error: 40423880.0000 - val_categorical_accuracy: 0.8406\n",
      "Restoring model weights from the end of the best epoch.\n",
      "Epoch 00096: early stopping\n"
     ]
    },
    {
     "data": {
      "text/plain": [
       "<keras.callbacks.History at 0x7fb32a0f8490>"
      ]
     },
     "execution_count": 118,
     "metadata": {},
     "output_type": "execute_result"
    }
   ],
   "source": [
    "model.fit(\n",
    "    train_features,\n",
    "    train_labels,\n",
    "    batch_size=BATCH_SIZE,\n",
    "    epochs=EPOCHS,\n",
    "    validation_data=(val_features, val_labels),\n",
    "    callbacks=[early_stopping],\n",
    "    verbose=1)\n"
   ]
  },
  {
   "cell_type": "code",
   "execution_count": 119,
   "metadata": {},
   "outputs": [],
   "source": [
    "prediction = model.predict(test_data)"
   ]
  },
  {
   "cell_type": "code",
   "execution_count": 120,
   "metadata": {},
   "outputs": [
    {
     "data": {
      "text/plain": [
       "array([[1.38155569e-03, 2.40176490e-07, 9.98541951e-01, 7.62843483e-05],\n",
       "       [9.98576999e-01, 2.81030632e-04, 1.13979576e-03, 2.10587609e-06],\n",
       "       [9.92561638e-01, 7.43769063e-03, 5.86193551e-07, 1.23971134e-07],\n",
       "       ...,\n",
       "       [1.00000000e+00, 2.10931326e-08, 1.30545404e-17, 2.65401522e-16],\n",
       "       [0.00000000e+00, 1.00000000e+00, 0.00000000e+00, 0.00000000e+00],\n",
       "       [9.93461846e-09, 1.27565313e-14, 1.33639269e-08, 1.00000000e+00]],\n",
       "      dtype=float32)"
      ]
     },
     "execution_count": 120,
     "metadata": {},
     "output_type": "execute_result"
    }
   ],
   "source": [
    "prediction"
   ]
  },
  {
   "cell_type": "code",
   "execution_count": 121,
   "metadata": {},
   "outputs": [
    {
     "data": {
      "text/plain": [
       "0.85476863"
      ]
     },
     "execution_count": 121,
     "metadata": {},
     "output_type": "execute_result"
    }
   ],
   "source": [
    "np.mean(keras.metrics.categorical_accuracy(test_labels,prediction).numpy())"
   ]
  },
  {
   "cell_type": "code",
   "execution_count": 122,
   "metadata": {},
   "outputs": [],
   "source": [
    "prediction = np.array([list(i).index(max(i)) for i in prediction])\n"
   ]
  },
  {
   "cell_type": "code",
   "execution_count": 123,
   "metadata": {},
   "outputs": [],
   "source": [
    "truelabels = np.array([list(i).index(max(i)) for i in test_labels])\n"
   ]
  },
  {
   "cell_type": "code",
   "execution_count": 124,
   "metadata": {},
   "outputs": [
    {
     "data": {
      "text/plain": [
       "array([0.91555631, 0.90782821, 0.19896587, 0.5147419 ])"
      ]
     },
     "execution_count": 124,
     "metadata": {},
     "output_type": "execute_result"
    }
   ],
   "source": [
    "from sklearn.metrics import f1_score, balanced_accuracy_score, accuracy_score\n",
    "f1_score(truelabels, prediction, average=None)\n"
   ]
  },
  {
   "cell_type": "code",
   "execution_count": null,
   "metadata": {},
   "outputs": [],
   "source": []
  },
  {
   "cell_type": "code",
   "execution_count": null,
   "metadata": {},
   "outputs": [],
   "source": []
  }
 ],
 "metadata": {
  "interpreter": {
   "hash": "40d3a090f54c6569ab1632332b64b2c03c39dcf918b08424e98f38b5ae0af88f"
  },
  "kernelspec": {
   "display_name": "Python 3.8.0 64-bit ('base': conda)",
   "language": "python",
   "name": "python3"
  },
  "language_info": {
   "codemirror_mode": {
    "name": "ipython",
    "version": 3
   },
   "file_extension": ".py",
   "mimetype": "text/x-python",
   "name": "python",
   "nbconvert_exporter": "python",
   "pygments_lexer": "ipython3",
   "version": "3.8.0"
  },
  "orig_nbformat": 4
 },
 "nbformat": 4,
 "nbformat_minor": 2
}

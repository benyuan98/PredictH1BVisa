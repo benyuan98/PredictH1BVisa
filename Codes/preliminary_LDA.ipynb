{
 "cells": [
  {
   "cell_type": "code",
   "execution_count": 1,
   "metadata": {},
   "outputs": [],
   "source": [
    "import pandas as pd\n",
    "import numpy as np"
   ]
  },
  {
   "cell_type": "code",
   "execution_count": 2,
   "metadata": {},
   "outputs": [],
   "source": [
    "training_data = pd.read_csv('train.csv')"
   ]
  },
  {
   "cell_type": "code",
   "execution_count": 3,
   "metadata": {},
   "outputs": [],
   "source": [
    "test_data = pd.read_csv('test.csv')"
   ]
  },
  {
   "cell_type": "code",
   "execution_count": 4,
   "metadata": {},
   "outputs": [],
   "source": [
    "y_training = training_data['CASE_STATUS']\n",
    "y_test = test_data['CASE_STATUS']\n",
    "training_data.index = training_data.iloc[:, 0]\n",
    "test_data.index = test_data.iloc[:, 0]\n",
    "training_data = training_data.drop(columns = ['CASE_STATUS']).iloc[:,1:]\n",
    "test_data = test_data.drop(columns=['CASE_STATUS']).iloc[:, 1:]"
   ]
  },
  {
   "cell_type": "code",
   "execution_count": 5,
   "metadata": {},
   "outputs": [
    {
     "data": {
      "text/html": [
       "<div>\n",
       "<style scoped>\n",
       "    .dataframe tbody tr th:only-of-type {\n",
       "        vertical-align: middle;\n",
       "    }\n",
       "\n",
       "    .dataframe tbody tr th {\n",
       "        vertical-align: top;\n",
       "    }\n",
       "\n",
       "    .dataframe thead th {\n",
       "        text-align: right;\n",
       "    }\n",
       "</style>\n",
       "<table border=\"1\" class=\"dataframe\">\n",
       "  <thead>\n",
       "    <tr style=\"text-align: right;\">\n",
       "      <th></th>\n",
       "      <th>AK</th>\n",
       "      <th>AL</th>\n",
       "      <th>AR</th>\n",
       "      <th>AZ</th>\n",
       "      <th>CA</th>\n",
       "      <th>CO</th>\n",
       "      <th>CT</th>\n",
       "      <th>DC</th>\n",
       "      <th>DE</th>\n",
       "      <th>FL</th>\n",
       "      <th>...</th>\n",
       "      <th>PREVAILING_WAGE</th>\n",
       "      <th>FULL_TIME_POSITION</th>\n",
       "      <th>total_wage</th>\n",
       "      <th>CASE_DURATION</th>\n",
       "      <th>EMPLOYMENT_DURATION</th>\n",
       "      <th>EMPLOYER_APPLICATION_COUNT</th>\n",
       "      <th>EMPLOYER_CERTIFIED_RATE</th>\n",
       "      <th>EMPLOYER_CERTIFIED-WITHDRAWN_RATE</th>\n",
       "      <th>EMPLOYER_DENIED_RATE</th>\n",
       "      <th>EMPLOYER_WITHDRAWN_RATE</th>\n",
       "    </tr>\n",
       "    <tr>\n",
       "      <th>Unnamed: 0</th>\n",
       "      <th></th>\n",
       "      <th></th>\n",
       "      <th></th>\n",
       "      <th></th>\n",
       "      <th></th>\n",
       "      <th></th>\n",
       "      <th></th>\n",
       "      <th></th>\n",
       "      <th></th>\n",
       "      <th></th>\n",
       "      <th></th>\n",
       "      <th></th>\n",
       "      <th></th>\n",
       "      <th></th>\n",
       "      <th></th>\n",
       "      <th></th>\n",
       "      <th></th>\n",
       "      <th></th>\n",
       "      <th></th>\n",
       "      <th></th>\n",
       "      <th></th>\n",
       "    </tr>\n",
       "  </thead>\n",
       "  <tbody>\n",
       "    <tr>\n",
       "      <th>1955893</th>\n",
       "      <td>0</td>\n",
       "      <td>0</td>\n",
       "      <td>0</td>\n",
       "      <td>0</td>\n",
       "      <td>0</td>\n",
       "      <td>0</td>\n",
       "      <td>0</td>\n",
       "      <td>0</td>\n",
       "      <td>0</td>\n",
       "      <td>0</td>\n",
       "      <td>...</td>\n",
       "      <td>67912.0</td>\n",
       "      <td>1</td>\n",
       "      <td>67912.0</td>\n",
       "      <td>6</td>\n",
       "      <td>1095.0</td>\n",
       "      <td>5</td>\n",
       "      <td>1.000000</td>\n",
       "      <td>0.000000</td>\n",
       "      <td>0.000000</td>\n",
       "      <td>0.000000</td>\n",
       "    </tr>\n",
       "    <tr>\n",
       "      <th>2344329</th>\n",
       "      <td>0</td>\n",
       "      <td>0</td>\n",
       "      <td>0</td>\n",
       "      <td>0</td>\n",
       "      <td>1</td>\n",
       "      <td>0</td>\n",
       "      <td>0</td>\n",
       "      <td>0</td>\n",
       "      <td>0</td>\n",
       "      <td>0</td>\n",
       "      <td>...</td>\n",
       "      <td>95472.0</td>\n",
       "      <td>1</td>\n",
       "      <td>95472.0</td>\n",
       "      <td>6</td>\n",
       "      <td>1095.0</td>\n",
       "      <td>11</td>\n",
       "      <td>1.000000</td>\n",
       "      <td>0.000000</td>\n",
       "      <td>0.000000</td>\n",
       "      <td>0.000000</td>\n",
       "    </tr>\n",
       "    <tr>\n",
       "      <th>1559667</th>\n",
       "      <td>0</td>\n",
       "      <td>0</td>\n",
       "      <td>0</td>\n",
       "      <td>0</td>\n",
       "      <td>0</td>\n",
       "      <td>0</td>\n",
       "      <td>0</td>\n",
       "      <td>0</td>\n",
       "      <td>0</td>\n",
       "      <td>0</td>\n",
       "      <td>...</td>\n",
       "      <td>64813.0</td>\n",
       "      <td>1</td>\n",
       "      <td>64813.0</td>\n",
       "      <td>5</td>\n",
       "      <td>1095.0</td>\n",
       "      <td>245</td>\n",
       "      <td>0.926531</td>\n",
       "      <td>0.016327</td>\n",
       "      <td>0.008163</td>\n",
       "      <td>0.048980</td>\n",
       "    </tr>\n",
       "    <tr>\n",
       "      <th>1188733</th>\n",
       "      <td>0</td>\n",
       "      <td>0</td>\n",
       "      <td>0</td>\n",
       "      <td>0</td>\n",
       "      <td>0</td>\n",
       "      <td>1</td>\n",
       "      <td>0</td>\n",
       "      <td>0</td>\n",
       "      <td>0</td>\n",
       "      <td>0</td>\n",
       "      <td>...</td>\n",
       "      <td>60798.0</td>\n",
       "      <td>0</td>\n",
       "      <td>60798.0</td>\n",
       "      <td>6</td>\n",
       "      <td>1094.0</td>\n",
       "      <td>25</td>\n",
       "      <td>0.840000</td>\n",
       "      <td>0.040000</td>\n",
       "      <td>0.000000</td>\n",
       "      <td>0.120000</td>\n",
       "    </tr>\n",
       "    <tr>\n",
       "      <th>518282</th>\n",
       "      <td>0</td>\n",
       "      <td>0</td>\n",
       "      <td>0</td>\n",
       "      <td>0</td>\n",
       "      <td>1</td>\n",
       "      <td>0</td>\n",
       "      <td>0</td>\n",
       "      <td>0</td>\n",
       "      <td>0</td>\n",
       "      <td>0</td>\n",
       "      <td>...</td>\n",
       "      <td>103958.0</td>\n",
       "      <td>1</td>\n",
       "      <td>103958.0</td>\n",
       "      <td>6</td>\n",
       "      <td>1095.0</td>\n",
       "      <td>1209</td>\n",
       "      <td>0.990902</td>\n",
       "      <td>0.000827</td>\n",
       "      <td>0.006617</td>\n",
       "      <td>0.001654</td>\n",
       "    </tr>\n",
       "  </tbody>\n",
       "</table>\n",
       "<p>5 rows × 420 columns</p>\n",
       "</div>"
      ],
      "text/plain": [
       "            AK  AL  AR  AZ  CA  CO  CT  DC  DE  FL  ...  PREVAILING_WAGE  \\\n",
       "Unnamed: 0                                          ...                    \n",
       "1955893      0   0   0   0   0   0   0   0   0   0  ...          67912.0   \n",
       "2344329      0   0   0   0   1   0   0   0   0   0  ...          95472.0   \n",
       "1559667      0   0   0   0   0   0   0   0   0   0  ...          64813.0   \n",
       "1188733      0   0   0   0   0   1   0   0   0   0  ...          60798.0   \n",
       "518282       0   0   0   0   1   0   0   0   0   0  ...         103958.0   \n",
       "\n",
       "            FULL_TIME_POSITION  total_wage  CASE_DURATION  \\\n",
       "Unnamed: 0                                                  \n",
       "1955893                      1     67912.0              6   \n",
       "2344329                      1     95472.0              6   \n",
       "1559667                      1     64813.0              5   \n",
       "1188733                      0     60798.0              6   \n",
       "518282                       1    103958.0              6   \n",
       "\n",
       "            EMPLOYMENT_DURATION  EMPLOYER_APPLICATION_COUNT  \\\n",
       "Unnamed: 0                                                    \n",
       "1955893                  1095.0                           5   \n",
       "2344329                  1095.0                          11   \n",
       "1559667                  1095.0                         245   \n",
       "1188733                  1094.0                          25   \n",
       "518282                   1095.0                        1209   \n",
       "\n",
       "            EMPLOYER_CERTIFIED_RATE  EMPLOYER_CERTIFIED-WITHDRAWN_RATE  \\\n",
       "Unnamed: 0                                                               \n",
       "1955893                    1.000000                           0.000000   \n",
       "2344329                    1.000000                           0.000000   \n",
       "1559667                    0.926531                           0.016327   \n",
       "1188733                    0.840000                           0.040000   \n",
       "518282                     0.990902                           0.000827   \n",
       "\n",
       "            EMPLOYER_DENIED_RATE  EMPLOYER_WITHDRAWN_RATE  \n",
       "Unnamed: 0                                                 \n",
       "1955893                 0.000000                 0.000000  \n",
       "2344329                 0.000000                 0.000000  \n",
       "1559667                 0.008163                 0.048980  \n",
       "1188733                 0.000000                 0.120000  \n",
       "518282                  0.006617                 0.001654  \n",
       "\n",
       "[5 rows x 420 columns]"
      ]
     },
     "execution_count": 5,
     "metadata": {},
     "output_type": "execute_result"
    }
   ],
   "source": [
    "try:\n",
    "    training_data = training_data.drop(columns = ['EMPLOYER_NAME'])\n",
    "except:\n",
    "    pass\n",
    "try: \n",
    "    test_data = test_data.drop(columns = ['EMPLOYER_NAME'])\n",
    "except:\n",
    "    pass\n",
    "training_data.head()"
   ]
  },
  {
   "cell_type": "code",
   "execution_count": 6,
   "metadata": {},
   "outputs": [],
   "source": [
    "from sklearn.discriminant_analysis import LinearDiscriminantAnalysis as lda\n",
    "from sklearn.discriminant_analysis import QuadraticDiscriminantAnalysis as qda\n"
   ]
  },
  {
   "cell_type": "code",
   "execution_count": 7,
   "metadata": {},
   "outputs": [
    {
     "data": {
      "text/plain": [
       "LinearDiscriminantAnalysis()"
      ]
     },
     "execution_count": 7,
     "metadata": {},
     "output_type": "execute_result"
    }
   ],
   "source": [
    "# The training may cost about 40min. \n",
    "lda_model = lda()\n",
    "lda_model.fit(training_data, y_training)"
   ]
  },
  {
   "cell_type": "code",
   "execution_count": 8,
   "metadata": {},
   "outputs": [],
   "source": [
    "prediction = lda_model.predict(test_data)"
   ]
  },
  {
   "cell_type": "code",
   "execution_count": 9,
   "metadata": {},
   "outputs": [
    {
     "name": "stdout",
     "output_type": "stream",
     "text": [
      "[0.61300225 0.96179284] 0.9304519589175545\n"
     ]
    }
   ],
   "source": [
    "from sklearn.metrics import f1_score, balanced_accuracy_score, accuracy_score\n",
    "print(f1_score(y_test, prediction, average=None), f1_score(y_test, prediction, average='micro'))\n"
   ]
  },
  {
   "cell_type": "code",
   "execution_count": 10,
   "metadata": {},
   "outputs": [
    {
     "name": "stdout",
     "output_type": "stream",
     "text": [
      "0.7290353614293952 0.9304519589175545\n"
     ]
    }
   ],
   "source": [
    "print(balanced_accuracy_score(y_test, prediction), \n",
    "      accuracy_score(y_test, prediction))\n"
   ]
  },
  {
   "cell_type": "code",
   "execution_count": 11,
   "metadata": {},
   "outputs": [
    {
     "name": "stdout",
     "output_type": "stream",
     "text": [
      "0.7281517041136502 0.9302680850489654\n",
      "[0.61145597 0.96169692] 0.9302680850489654\n"
     ]
    }
   ],
   "source": [
    "prediction = lda_model.predict(training_data)\n",
    "print(balanced_accuracy_score(y_training, prediction),\n",
    "      accuracy_score(y_training, prediction))\n",
    "print(f1_score(y_training, prediction, average=None), f1_score(y_training, prediction, average='micro'))\n"
   ]
  },
  {
   "cell_type": "code",
   "execution_count": 12,
   "metadata": {},
   "outputs": [
    {
     "data": {
      "text/plain": [
       "\"\\n# load the model from disk.\\nloaded_model = pickle. load(open(filename, 'rb'))\\nresult = loaded_model. score(X_test, Y_test)\\n\""
      ]
     },
     "execution_count": 12,
     "metadata": {},
     "output_type": "execute_result"
    }
   ],
   "source": [
    "import pickle\n",
    "filename = 'lda_initial_model.sav'\n",
    "pickle.dump(lda_model, open(filename, 'wb'))\n",
    "'''\n",
    "# load the model from disk.\n",
    "loaded_model = pickle. load(open(filename, 'rb'))\n",
    "result = loaded_model. score(X_test, Y_test)\n",
    "'''\n"
   ]
  },
  {
   "cell_type": "code",
   "execution_count": 14,
   "metadata": {},
   "outputs": [
    {
     "name": "stderr",
     "output_type": "stream",
     "text": [
      "/opt/anaconda3/lib/python3.8/site-packages/sklearn/discriminant_analysis.py:878: UserWarning: Variables are collinear\n",
      "  warnings.warn(\"Variables are collinear\")\n"
     ]
    },
    {
     "data": {
      "text/plain": [
       "QuadraticDiscriminantAnalysis()"
      ]
     },
     "execution_count": 14,
     "metadata": {},
     "output_type": "execute_result"
    }
   ],
   "source": [
    "# The training may cost about 40min.\n",
    "qda_model = qda()\n",
    "qda_model.fit(training_data, y_training)"
   ]
  },
  {
   "cell_type": "code",
   "execution_count": 16,
   "metadata": {},
   "outputs": [
    {
     "name": "stdout",
     "output_type": "stream",
     "text": [
      "[0.1577725  0.90344867] 0.8267575229524826\n",
      "0.5282157959047862 0.8267575229524825\n"
     ]
    }
   ],
   "source": [
    "prediction = qda_model.predict(test_data)\n",
    "print(f1_score(y_test, prediction, average=None),\n",
    "      f1_score(y_test, prediction, average='micro'))\n",
    "print(balanced_accuracy_score(y_test, prediction),\n",
    "      accuracy_score(y_test, prediction))"
   ]
  },
  {
   "cell_type": "code",
   "execution_count": 18,
   "metadata": {},
   "outputs": [
    {
     "name": "stdout",
     "output_type": "stream",
     "text": [
      "0.5285841182281272 0.8274762388894332\n",
      "[0.15823747 0.90388887] 0.8274762388894332\n"
     ]
    }
   ],
   "source": [
    "prediction = qda_model.predict(training_data)\n",
    "print(balanced_accuracy_score(y_training, prediction),\n",
    "      accuracy_score(y_training, prediction))\n",
    "print(f1_score(y_training, prediction, average=None),\n",
    "      f1_score(y_training, prediction, average='micro'))"
   ]
  },
  {
   "cell_type": "code",
   "execution_count": 20,
   "metadata": {},
   "outputs": [],
   "source": [
    "import pickle\n",
    "filename = 'qda_initial_model.sav'\n",
    "pickle.dump(qda_model, open(filename, 'wb'))"
   ]
  },
  {
   "cell_type": "code",
   "execution_count": null,
   "metadata": {},
   "outputs": [],
   "source": []
  }
 ],
 "metadata": {
  "interpreter": {
   "hash": "40d3a090f54c6569ab1632332b64b2c03c39dcf918b08424e98f38b5ae0af88f"
  },
  "kernelspec": {
   "display_name": "Python 3.8.0 64-bit ('base': conda)",
   "name": "python3"
  },
  "language_info": {
   "codemirror_mode": {
    "name": "ipython",
    "version": 3
   },
   "file_extension": ".py",
   "mimetype": "text/x-python",
   "name": "python",
   "nbconvert_exporter": "python",
   "pygments_lexer": "ipython3",
   "version": "3.8.0"
  },
  "orig_nbformat": 4
 },
 "nbformat": 4,
 "nbformat_minor": 2
}

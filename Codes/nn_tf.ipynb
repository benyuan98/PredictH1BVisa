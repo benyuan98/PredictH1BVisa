{
 "cells": [
  {
   "cell_type": "code",
   "execution_count": 125,
   "metadata": {},
   "outputs": [],
   "source": [
    "import tensorflow as tf\n",
    "from tensorflow import keras\n",
    "\n",
    "import matplotlib.pyplot as plt\n",
    "import numpy as np\n",
    "import pandas as pd\n",
    "import seaborn as sns\n",
    "\n",
    "import sklearn\n",
    "from sklearn.metrics import confusion_matrix\n",
    "from sklearn.model_selection import train_test_split\n",
    "from sklearn.preprocessing import StandardScaler\n"
   ]
  },
  {
   "cell_type": "code",
   "execution_count": 128,
   "metadata": {},
   "outputs": [
    {
     "name": "stderr",
     "output_type": "stream",
     "text": [
      "/opt/anaconda3/lib/python3.8/site-packages/numpy/lib/arraysetops.py:580: FutureWarning: elementwise comparison failed; returning scalar instead, but in the future will perform elementwise comparison\n",
      "  mask |= (ar1 == a)\n"
     ]
    }
   ],
   "source": [
    "test_data = pd.read_csv('../DATA/test_normalized_4labels.csv', index_col=0)\n",
    "training_data = pd.read_csv(\n",
    "    '../DATA/train_normalized_4labels.csv', index_col=0)\n"
   ]
  },
  {
   "cell_type": "code",
   "execution_count": 129,
   "metadata": {},
   "outputs": [],
   "source": [
    "labels = {'CERTIFIED': 0, 'CERTIFIED-WITHDRAWN': 1,\n",
    "          'DENIED': 1, 'WITHDRAWN': 1}\n",
    "test_data['CASE_STATUS'] = test_data['CASE_STATUS'].apply(lambda x: labels[x])\n",
    "training_data['CASE_STATUS'] = training_data['CASE_STATUS'].apply(\n",
    "    lambda x: labels[x])\n"
   ]
  },
  {
   "cell_type": "code",
   "execution_count": 130,
   "metadata": {},
   "outputs": [],
   "source": [
    "train_data, val_data = train_test_split(training_data, test_size=0.2)\n"
   ]
  },
  {
   "cell_type": "code",
   "execution_count": 131,
   "metadata": {},
   "outputs": [],
   "source": [
    "train_labels = np.array(train_data.pop('CASE_STATUS'))\n",
    "val_labels = np.array(val_data.pop('CASE_STATUS'))\n",
    "test_labels = np.array(test_data.pop('CASE_STATUS'))\n",
    "\n",
    "train_data.pop('EMPLOYER_NAME')\n",
    "test_data.pop('EMPLOYER_NAME')\n",
    "val_data.pop('EMPLOYER_NAME')\n",
    "\n",
    "train_features = np.array(train_data)\n",
    "val_features = np.array(val_data)\n",
    "test_features = np.array(test_data)\n"
   ]
  },
  {
   "cell_type": "code",
   "execution_count": 132,
   "metadata": {},
   "outputs": [
    {
     "name": "stdout",
     "output_type": "stream",
     "text": [
      "(1363656, 420)\n",
      "(730531, 420)\n",
      "(340915, 420)\n",
      "(1363656,)\n",
      "(730531,)\n",
      "(340915,)\n"
     ]
    }
   ],
   "source": [
    "print(train_features.shape)\n",
    "print(test_features.shape)\n",
    "print(val_features.shape)\n",
    "print(train_labels.shape)\n",
    "print(test_labels.shape)\n",
    "print(val_labels.shape)"
   ]
  },
  {
   "cell_type": "code",
   "execution_count": 133,
   "metadata": {},
   "outputs": [],
   "source": [
    "METRICS = [\n",
    "    keras.metrics.TruePositives(name='tp'),\n",
    "    keras.metrics.FalsePositives(name='fp'),\n",
    "    keras.metrics.TrueNegatives(name='tn'),\n",
    "    keras.metrics.FalseNegatives(name='fn'),\n",
    "    keras.metrics.BinaryAccuracy(name='accuracy'),\n",
    "    keras.metrics.Precision(name='precision'),\n",
    "    keras.metrics.Recall(name='recall'),\n",
    "    keras.metrics.AUC(name='auc'),\n",
    "    keras.metrics.AUC(name='prc', curve='PR'),  # precision-recall curve\n",
    "]\n",
    "\n",
    "def make_model(metrics=METRICS, output_bias=None):\n",
    "  if output_bias is not None:\n",
    "    output_bias = tf.keras.initializers.Constant(output_bias)\n",
    "  model = keras.Sequential([\n",
    "      keras.layers.Dense(\n",
    "          256, activation='relu',\n",
    "          input_shape=(train_features.shape[-1],)),\n",
    "      keras.layers.Dense(\n",
    "          64, activation='relu'),\n",
    "      keras.layers.Dropout(0.5),\n",
    "      keras.layers.Dense(1, activation='sigmoid',\n",
    "                         bias_initializer=output_bias),\n",
    "  ])\n",
    "\n",
    "  model.compile(\n",
    "      optimizer=keras.optimizers.Adam(learning_rate=1e-3),\n",
    "      loss=keras.losses.BinaryCrossentropy(),\n",
    "      metrics=metrics)\n",
    "\n",
    "  return model\n"
   ]
  },
  {
   "cell_type": "code",
   "execution_count": 140,
   "metadata": {},
   "outputs": [
    {
     "name": "stdout",
     "output_type": "stream",
     "text": [
      "Model: \"sequential_17\"\n",
      "_________________________________________________________________\n",
      "Layer (type)                 Output Shape              Param #   \n",
      "=================================================================\n",
      "dense_51 (Dense)             (None, 256)               107776    \n",
      "_________________________________________________________________\n",
      "dense_52 (Dense)             (None, 64)                16448     \n",
      "_________________________________________________________________\n",
      "dropout_17 (Dropout)         (None, 64)                0         \n",
      "_________________________________________________________________\n",
      "dense_53 (Dense)             (None, 1)                 65        \n",
      "=================================================================\n",
      "Total params: 124,289\n",
      "Trainable params: 124,289\n",
      "Non-trainable params: 0\n",
      "_________________________________________________________________\n"
     ]
    }
   ],
   "source": [
    "EPOCHS = 100\n",
    "BATCH_SIZE = 2048\n",
    "filename = '../saved_models/nn_2labels_model.sav'\n",
    "cp_callback = tf.keras.callbacks.ModelCheckpoint(filepath=filename,\n",
    "                                                 save_weights_only=True,\n",
    "                                                 verbose=1)\n",
    "early_stopping = tf.keras.callbacks.EarlyStopping(\n",
    "    monitor='val_auc',\n",
    "    verbose=1,\n",
    "    patience=10,\n",
    "    mode='max',\n",
    "    restore_best_weights=True)\n",
    "model = make_model()\n",
    "model.summary()\n"
   ]
  },
  {
   "cell_type": "code",
   "execution_count": 141,
   "metadata": {},
   "outputs": [
    {
     "name": "stdout",
     "output_type": "stream",
     "text": [
      "Epoch 1/100\n",
      "666/666 [==============================] - 13s 14ms/step - loss: 0.2023 - tp: 170253.0000 - fp: 30676.0000 - tn: 1815427.0000 - fn: 77831.0000 - accuracy: 0.9482 - precision: 0.8473 - recall: 0.6863 - auc: 0.9337 - prc: 0.8307 - val_loss: 0.1527 - val_tp: 26103.0000 - val_fp: 1854.0000 - val_tn: 298757.0000 - val_fn: 14201.0000 - val_accuracy: 0.9529 - val_precision: 0.9337 - val_recall: 0.6477 - val_auc: 0.9266 - val_prc: 0.8213\n",
      "\n",
      "Epoch 00001: saving model to ../saved_models/nn_2labels_model.sav\n",
      "Epoch 2/100\n",
      "666/666 [==============================] - 9s 13ms/step - loss: 0.1580 - tp: 104966.0000 - fp: 6301.0000 - tn: 1195787.0000 - fn: 56602.0000 - accuracy: 0.9539 - precision: 0.9434 - recall: 0.6497 - auc: 0.9203 - prc: 0.8159 - val_loss: 0.1399 - val_tp: 26489.0000 - val_fp: 1153.0000 - val_tn: 299458.0000 - val_fn: 13815.0000 - val_accuracy: 0.9561 - val_precision: 0.9583 - val_recall: 0.6572 - val_auc: 0.9403 - val_prc: 0.8433\n",
      "\n",
      "Epoch 00002: saving model to ../saved_models/nn_2labels_model.sav\n",
      "Epoch 3/100\n",
      "666/666 [==============================] - 8s 12ms/step - loss: 0.1367 - tp: 109389.0000 - fp: 5682.0000 - tn: 1196406.0000 - fn: 52179.0000 - accuracy: 0.9576 - precision: 0.9506 - recall: 0.6770 - auc: 0.9440 - prc: 0.8560 - val_loss: 0.1050 - val_tp: 29359.0000 - val_fp: 1104.0000 - val_tn: 299507.0000 - val_fn: 10945.0000 - val_accuracy: 0.9647 - val_precision: 0.9638 - val_recall: 0.7284 - val_auc: 0.9702 - val_prc: 0.9132\n",
      "\n",
      "Epoch 00003: saving model to ../saved_models/nn_2labels_model.sav\n",
      "Epoch 4/100\n",
      "666/666 [==============================] - 8s 13ms/step - loss: 0.1026 - tp: 126514.0000 - fp: 5463.0000 - tn: 1196625.0000 - fn: 35054.0000 - accuracy: 0.9703 - precision: 0.9586 - recall: 0.7830 - auc: 0.9666 - prc: 0.9177 - val_loss: 0.0833 - val_tp: 32783.0000 - val_fp: 572.0000 - val_tn: 300039.0000 - val_fn: 7521.0000 - val_accuracy: 0.9763 - val_precision: 0.9829 - val_recall: 0.8134 - val_auc: 0.9741 - val_prc: 0.9380\n",
      "\n",
      "Epoch 00004: saving model to ../saved_models/nn_2labels_model.sav\n",
      "Epoch 5/100\n",
      "666/666 [==============================] - 8s 12ms/step - loss: 0.0886 - tp: 135307.0000 - fp: 5445.0000 - tn: 1196643.0000 - fn: 26261.0000 - accuracy: 0.9767 - precision: 0.9613 - recall: 0.8375 - auc: 0.9706 - prc: 0.9318 - val_loss: 0.0742 - val_tp: 34399.0000 - val_fp: 1071.0000 - val_tn: 299540.0000 - val_fn: 5905.0000 - val_accuracy: 0.9795 - val_precision: 0.9698 - val_recall: 0.8535 - val_auc: 0.9772 - val_prc: 0.9442\n",
      "\n",
      "Epoch 00005: saving model to ../saved_models/nn_2labels_model.sav\n",
      "Epoch 6/100\n",
      "666/666 [==============================] - 8s 12ms/step - loss: 0.0827 - tp: 136990.0000 - fp: 4993.0000 - tn: 1197095.0000 - fn: 24578.0000 - accuracy: 0.9783 - precision: 0.9648 - recall: 0.8479 - auc: 0.9725 - prc: 0.9365 - val_loss: 0.0717 - val_tp: 34684.0000 - val_fp: 990.0000 - val_tn: 299621.0000 - val_fn: 5620.0000 - val_accuracy: 0.9806 - val_precision: 0.9722 - val_recall: 0.8606 - val_auc: 0.9785 - val_prc: 0.9463\n",
      "\n",
      "Epoch 00006: saving model to ../saved_models/nn_2labels_model.sav\n",
      "Epoch 7/100\n",
      "666/666 [==============================] - 8s 12ms/step - loss: 0.0798 - tp: 137873.0000 - fp: 4575.0000 - tn: 1197513.0000 - fn: 23695.0000 - accuracy: 0.9793 - precision: 0.9679 - recall: 0.8533 - auc: 0.9737 - prc: 0.9394 - val_loss: 0.0716 - val_tp: 34610.0000 - val_fp: 863.0000 - val_tn: 299748.0000 - val_fn: 5694.0000 - val_accuracy: 0.9808 - val_precision: 0.9757 - val_recall: 0.8587 - val_auc: 0.9772 - val_prc: 0.9453\n",
      "\n",
      "Epoch 00007: saving model to ../saved_models/nn_2labels_model.sav\n",
      "Epoch 8/100\n",
      "666/666 [==============================] - 14s 22ms/step - loss: 0.0767 - tp: 138413.0000 - fp: 4296.0000 - tn: 1197792.0000 - fn: 23155.0000 - accuracy: 0.9799 - precision: 0.9699 - recall: 0.8567 - auc: 0.9751 - prc: 0.9418 - val_loss: 0.0678 - val_tp: 34502.0000 - val_fp: 674.0000 - val_tn: 299937.0000 - val_fn: 5802.0000 - val_accuracy: 0.9810 - val_precision: 0.9808 - val_recall: 0.8560 - val_auc: 0.9804 - val_prc: 0.9501\n",
      "\n",
      "Epoch 00008: saving model to ../saved_models/nn_2labels_model.sav\n",
      "Epoch 9/100\n",
      "666/666 [==============================] - 12s 18ms/step - loss: 0.0744 - tp: 138767.0000 - fp: 4003.0000 - tn: 1198085.0000 - fn: 22801.0000 - accuracy: 0.9803 - precision: 0.9720 - recall: 0.8589 - auc: 0.9762 - prc: 0.9438 - val_loss: 0.0676 - val_tp: 34780.0000 - val_fp: 726.0000 - val_tn: 299885.0000 - val_fn: 5524.0000 - val_accuracy: 0.9817 - val_precision: 0.9796 - val_recall: 0.8629 - val_auc: 0.9792 - val_prc: 0.9498\n",
      "\n",
      "Epoch 00009: saving model to ../saved_models/nn_2labels_model.sav\n",
      "Epoch 10/100\n",
      "666/666 [==============================] - 8s 13ms/step - loss: 0.0726 - tp: 139141.0000 - fp: 3776.0000 - tn: 1198312.0000 - fn: 22427.0000 - accuracy: 0.9808 - precision: 0.9736 - recall: 0.8612 - auc: 0.9769 - prc: 0.9454 - val_loss: 0.0679 - val_tp: 34651.0000 - val_fp: 748.0000 - val_tn: 299863.0000 - val_fn: 5653.0000 - val_accuracy: 0.9812 - val_precision: 0.9789 - val_recall: 0.8597 - val_auc: 0.9797 - val_prc: 0.9501\n",
      "\n",
      "Epoch 00010: saving model to ../saved_models/nn_2labels_model.sav\n",
      "Epoch 11/100\n",
      "666/666 [==============================] - 9s 14ms/step - loss: 0.0708 - tp: 139149.0000 - fp: 3500.0000 - tn: 1198588.0000 - fn: 22419.0000 - accuracy: 0.9810 - precision: 0.9755 - recall: 0.8612 - auc: 0.9780 - prc: 0.9474 - val_loss: 0.0655 - val_tp: 34967.0000 - val_fp: 809.0000 - val_tn: 299802.0000 - val_fn: 5337.0000 - val_accuracy: 0.9820 - val_precision: 0.9774 - val_recall: 0.8676 - val_auc: 0.9805 - val_prc: 0.9513\n",
      "\n",
      "Epoch 00011: saving model to ../saved_models/nn_2labels_model.sav\n",
      "Epoch 12/100\n",
      "666/666 [==============================] - 11s 17ms/step - loss: 0.0692 - tp: 139459.0000 - fp: 3199.0000 - tn: 1198889.0000 - fn: 22109.0000 - accuracy: 0.9814 - precision: 0.9776 - recall: 0.8632 - auc: 0.9788 - prc: 0.9488 - val_loss: 0.0664 - val_tp: 34639.0000 - val_fp: 600.0000 - val_tn: 300011.0000 - val_fn: 5665.0000 - val_accuracy: 0.9816 - val_precision: 0.9830 - val_recall: 0.8594 - val_auc: 0.9805 - val_prc: 0.9511\n",
      "\n",
      "Epoch 00012: saving model to ../saved_models/nn_2labels_model.sav\n",
      "Epoch 13/100\n",
      "666/666 [==============================] - 11s 16ms/step - loss: 0.0680 - tp: 139026.0000 - fp: 2988.0000 - tn: 1199100.0000 - fn: 22542.0000 - accuracy: 0.9813 - precision: 0.9790 - recall: 0.8605 - auc: 0.9795 - prc: 0.9500 - val_loss: 0.0658 - val_tp: 34704.0000 - val_fp: 614.0000 - val_tn: 299997.0000 - val_fn: 5600.0000 - val_accuracy: 0.9818 - val_precision: 0.9826 - val_recall: 0.8611 - val_auc: 0.9810 - val_prc: 0.9515\n",
      "\n",
      "Epoch 00013: saving model to ../saved_models/nn_2labels_model.sav\n",
      "Epoch 14/100\n",
      "666/666 [==============================] - 10s 15ms/step - loss: 0.0669 - tp: 139033.0000 - fp: 2638.0000 - tn: 1199450.0000 - fn: 22535.0000 - accuracy: 0.9815 - precision: 0.9814 - recall: 0.8605 - auc: 0.9799 - prc: 0.9511 - val_loss: 0.0658 - val_tp: 34886.0000 - val_fp: 850.0000 - val_tn: 299761.0000 - val_fn: 5418.0000 - val_accuracy: 0.9816 - val_precision: 0.9762 - val_recall: 0.8656 - val_auc: 0.9811 - val_prc: 0.9518\n",
      "\n",
      "Epoch 00014: saving model to ../saved_models/nn_2labels_model.sav\n",
      "Epoch 15/100\n",
      "666/666 [==============================] - 10s 15ms/step - loss: 0.0656 - tp: 139449.0000 - fp: 2709.0000 - tn: 1199379.0000 - fn: 22119.0000 - accuracy: 0.9818 - precision: 0.9809 - recall: 0.8631 - auc: 0.9809 - prc: 0.9526 - val_loss: 0.0651 - val_tp: 35066.0000 - val_fp: 740.0000 - val_tn: 299871.0000 - val_fn: 5238.0000 - val_accuracy: 0.9825 - val_precision: 0.9793 - val_recall: 0.8700 - val_auc: 0.9804 - val_prc: 0.9514\n",
      "\n",
      "Epoch 00015: saving model to ../saved_models/nn_2labels_model.sav\n",
      "Epoch 16/100\n",
      "666/666 [==============================] - 10s 14ms/step - loss: 0.0649 - tp: 139517.0000 - fp: 2621.0000 - tn: 1199467.0000 - fn: 22051.0000 - accuracy: 0.9819 - precision: 0.9816 - recall: 0.8635 - auc: 0.9811 - prc: 0.9531 - val_loss: 0.0651 - val_tp: 34975.0000 - val_fp: 729.0000 - val_tn: 299882.0000 - val_fn: 5329.0000 - val_accuracy: 0.9822 - val_precision: 0.9796 - val_recall: 0.8678 - val_auc: 0.9806 - val_prc: 0.9519\n",
      "\n",
      "Epoch 00016: saving model to ../saved_models/nn_2labels_model.sav\n",
      "Epoch 17/100\n",
      "666/666 [==============================] - 10s 14ms/step - loss: 0.0643 - tp: 139790.0000 - fp: 2523.0000 - tn: 1199565.0000 - fn: 21778.0000 - accuracy: 0.9822 - precision: 0.9823 - recall: 0.8652 - auc: 0.9816 - prc: 0.9540 - val_loss: 0.0652 - val_tp: 34902.0000 - val_fp: 555.0000 - val_tn: 300056.0000 - val_fn: 5402.0000 - val_accuracy: 0.9825 - val_precision: 0.9843 - val_recall: 0.8660 - val_auc: 0.9801 - val_prc: 0.9509\n",
      "\n",
      "Epoch 00017: saving model to ../saved_models/nn_2labels_model.sav\n",
      "Epoch 18/100\n",
      "666/666 [==============================] - 10s 15ms/step - loss: 0.0635 - tp: 139898.0000 - fp: 2439.0000 - tn: 1199649.0000 - fn: 21670.0000 - accuracy: 0.9823 - precision: 0.9829 - recall: 0.8659 - auc: 0.9819 - prc: 0.9546 - val_loss: 0.0671 - val_tp: 35270.0000 - val_fp: 1133.0000 - val_tn: 299478.0000 - val_fn: 5034.0000 - val_accuracy: 0.9819 - val_precision: 0.9689 - val_recall: 0.8751 - val_auc: 0.9805 - val_prc: 0.9504\n",
      "\n",
      "Epoch 00018: saving model to ../saved_models/nn_2labels_model.sav\n",
      "Epoch 19/100\n",
      "666/666 [==============================] - 11s 16ms/step - loss: 0.0631 - tp: 139948.0000 - fp: 2349.0000 - tn: 1199739.0000 - fn: 21620.0000 - accuracy: 0.9824 - precision: 0.9835 - recall: 0.8662 - auc: 0.9823 - prc: 0.9552 - val_loss: 0.0664 - val_tp: 35090.0000 - val_fp: 853.0000 - val_tn: 299758.0000 - val_fn: 5214.0000 - val_accuracy: 0.9822 - val_precision: 0.9763 - val_recall: 0.8706 - val_auc: 0.9800 - val_prc: 0.9505\n",
      "\n",
      "Epoch 00019: saving model to ../saved_models/nn_2labels_model.sav\n",
      "Epoch 20/100\n",
      "666/666 [==============================] - 11s 16ms/step - loss: 0.0622 - tp: 140162.0000 - fp: 2307.0000 - tn: 1199781.0000 - fn: 21406.0000 - accuracy: 0.9826 - precision: 0.9838 - recall: 0.8675 - auc: 0.9827 - prc: 0.9560 - val_loss: 0.0666 - val_tp: 35097.0000 - val_fp: 851.0000 - val_tn: 299760.0000 - val_fn: 5207.0000 - val_accuracy: 0.9822 - val_precision: 0.9763 - val_recall: 0.8708 - val_auc: 0.9796 - val_prc: 0.9501\n",
      "\n",
      "Epoch 00020: saving model to ../saved_models/nn_2labels_model.sav\n",
      "Epoch 21/100\n",
      "666/666 [==============================] - 13s 19ms/step - loss: 0.0622 - tp: 140155.0000 - fp: 2301.0000 - tn: 1199787.0000 - fn: 21413.0000 - accuracy: 0.9826 - precision: 0.9838 - recall: 0.8675 - auc: 0.9830 - prc: 0.9562 - val_loss: 0.0671 - val_tp: 34646.0000 - val_fp: 505.0000 - val_tn: 300106.0000 - val_fn: 5658.0000 - val_accuracy: 0.9819 - val_precision: 0.9856 - val_recall: 0.8596 - val_auc: 0.9790 - val_prc: 0.9496\n",
      "\n",
      "Epoch 00021: saving model to ../saved_models/nn_2labels_model.sav\n",
      "Epoch 22/100\n",
      "666/666 [==============================] - 13s 20ms/step - loss: 0.0617 - tp: 140355.0000 - fp: 2325.0000 - tn: 1199763.0000 - fn: 21213.0000 - accuracy: 0.9827 - precision: 0.9837 - recall: 0.8687 - auc: 0.9832 - prc: 0.9569 - val_loss: 0.0661 - val_tp: 34925.0000 - val_fp: 568.0000 - val_tn: 300043.0000 - val_fn: 5379.0000 - val_accuracy: 0.9826 - val_precision: 0.9840 - val_recall: 0.8665 - val_auc: 0.9792 - val_prc: 0.9504\n",
      "\n",
      "Epoch 00022: saving model to ../saved_models/nn_2labels_model.sav\n",
      "Epoch 23/100\n",
      "666/666 [==============================] - 12s 18ms/step - loss: 0.0609 - tp: 140589.0000 - fp: 2245.0000 - tn: 1199843.0000 - fn: 20979.0000 - accuracy: 0.9830 - precision: 0.9843 - recall: 0.8702 - auc: 0.9837 - prc: 0.9575 - val_loss: 0.0667 - val_tp: 34996.0000 - val_fp: 839.0000 - val_tn: 299772.0000 - val_fn: 5308.0000 - val_accuracy: 0.9820 - val_precision: 0.9766 - val_recall: 0.8683 - val_auc: 0.9801 - val_prc: 0.9507\n",
      "\n",
      "Epoch 00023: saving model to ../saved_models/nn_2labels_model.sav\n",
      "Epoch 24/100\n",
      "666/666 [==============================] - 11s 16ms/step - loss: 0.0611 - tp: 140700.0000 - fp: 2303.0000 - tn: 1199785.0000 - fn: 20868.0000 - accuracy: 0.9830 - precision: 0.9839 - recall: 0.8708 - auc: 0.9838 - prc: 0.9578 - val_loss: 0.0666 - val_tp: 34805.0000 - val_fp: 510.0000 - val_tn: 300101.0000 - val_fn: 5499.0000 - val_accuracy: 0.9824 - val_precision: 0.9856 - val_recall: 0.8636 - val_auc: 0.9791 - val_prc: 0.9503\n",
      "Restoring model weights from the end of the best epoch.\n",
      "\n",
      "Epoch 00024: saving model to ../saved_models/nn_2labels_model.sav\n",
      "Epoch 00024: early stopping\n"
     ]
    },
    {
     "data": {
      "text/plain": [
       "<keras.callbacks.History at 0x7fa474f899a0>"
      ]
     },
     "execution_count": 141,
     "metadata": {},
     "output_type": "execute_result"
    }
   ],
   "source": [
    "model.fit(\n",
    "    train_features,\n",
    "    train_labels,\n",
    "    batch_size=BATCH_SIZE,\n",
    "    epochs=EPOCHS,\n",
    "    validation_data=(val_features, val_labels),\n",
    "    callbacks=[early_stopping, cp_callback],\n",
    "    verbose=1)\n"
   ]
  },
  {
   "cell_type": "code",
   "execution_count": 138,
   "metadata": {},
   "outputs": [
    {
     "name": "stdout",
     "output_type": "stream",
     "text": [
      "22830/22830 [==============================] - 34s 1ms/step - loss: 0.0666 - tp: 74403.0000 - fp: 1199.0000 - tn: 642816.0000 - fn: 12113.0000 - accuracy: 0.9818 - precision: 0.9841 - recall: 0.8600 - auc: 0.9812 - prc: 0.9513\n"
     ]
    },
    {
     "data": {
      "text/plain": [
       "[0.06662300229072571,\n",
       " 74403.0,\n",
       " 1199.0,\n",
       " 642816.0,\n",
       " 12113.0,\n",
       " 0.9817776679992676,\n",
       " 0.9841406345367432,\n",
       " 0.859991192817688,\n",
       " 0.9812482595443726,\n",
       " 0.9512678384780884]"
      ]
     },
     "execution_count": 138,
     "metadata": {},
     "output_type": "execute_result"
    }
   ],
   "source": [
    "model.evaluate(test_features, test_labels)"
   ]
  }
 ],
 "metadata": {
  "language_info": {
   "name": "python"
  },
  "orig_nbformat": 4
 },
 "nbformat": 4,
 "nbformat_minor": 2
}

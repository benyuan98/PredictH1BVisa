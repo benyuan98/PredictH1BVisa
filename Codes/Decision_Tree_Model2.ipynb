{
 "cells": [
  {
   "cell_type": "code",
   "execution_count": 1,
   "id": "f408cb9a",
   "metadata": {},
   "outputs": [],
   "source": [
    "import numpy as np\n",
    "import pandas as pd"
   ]
  },
  {
   "cell_type": "code",
   "execution_count": 2,
   "id": "4c914950",
   "metadata": {},
   "outputs": [
    {
     "data": {
      "text/html": [
       "<div>\n",
       "<style scoped>\n",
       "    .dataframe tbody tr th:only-of-type {\n",
       "        vertical-align: middle;\n",
       "    }\n",
       "\n",
       "    .dataframe tbody tr th {\n",
       "        vertical-align: top;\n",
       "    }\n",
       "\n",
       "    .dataframe thead th {\n",
       "        text-align: right;\n",
       "    }\n",
       "</style>\n",
       "<table border=\"1\" class=\"dataframe\">\n",
       "  <thead>\n",
       "    <tr style=\"text-align: right;\">\n",
       "      <th></th>\n",
       "      <th>Unnamed: 0</th>\n",
       "      <th>AK</th>\n",
       "      <th>AL</th>\n",
       "      <th>AR</th>\n",
       "      <th>AZ</th>\n",
       "      <th>CA</th>\n",
       "      <th>CO</th>\n",
       "      <th>CT</th>\n",
       "      <th>DC</th>\n",
       "      <th>DE</th>\n",
       "      <th>...</th>\n",
       "      <th>FULL_TIME_POSITION</th>\n",
       "      <th>total_wage</th>\n",
       "      <th>CASE_STATUS</th>\n",
       "      <th>CASE_DURATION</th>\n",
       "      <th>EMPLOYMENT_DURATION</th>\n",
       "      <th>EMPLOYER_APPLICATION_COUNT</th>\n",
       "      <th>EMPLOYER_CERTIFIED_RATE</th>\n",
       "      <th>EMPLOYER_CERTIFIED-WITHDRAWN_RATE</th>\n",
       "      <th>EMPLOYER_DENIED_RATE</th>\n",
       "      <th>EMPLOYER_WITHDRAWN_RATE</th>\n",
       "    </tr>\n",
       "  </thead>\n",
       "  <tbody>\n",
       "    <tr>\n",
       "      <th>0</th>\n",
       "      <td>1955893</td>\n",
       "      <td>0</td>\n",
       "      <td>0</td>\n",
       "      <td>0</td>\n",
       "      <td>0</td>\n",
       "      <td>0</td>\n",
       "      <td>0</td>\n",
       "      <td>0</td>\n",
       "      <td>0</td>\n",
       "      <td>0</td>\n",
       "      <td>...</td>\n",
       "      <td>1</td>\n",
       "      <td>67912.0</td>\n",
       "      <td>1</td>\n",
       "      <td>6</td>\n",
       "      <td>1095.0</td>\n",
       "      <td>5</td>\n",
       "      <td>1.000000</td>\n",
       "      <td>0.000000</td>\n",
       "      <td>0.000000</td>\n",
       "      <td>0.000000</td>\n",
       "    </tr>\n",
       "    <tr>\n",
       "      <th>1</th>\n",
       "      <td>2344329</td>\n",
       "      <td>0</td>\n",
       "      <td>0</td>\n",
       "      <td>0</td>\n",
       "      <td>0</td>\n",
       "      <td>1</td>\n",
       "      <td>0</td>\n",
       "      <td>0</td>\n",
       "      <td>0</td>\n",
       "      <td>0</td>\n",
       "      <td>...</td>\n",
       "      <td>1</td>\n",
       "      <td>95472.0</td>\n",
       "      <td>1</td>\n",
       "      <td>6</td>\n",
       "      <td>1095.0</td>\n",
       "      <td>11</td>\n",
       "      <td>1.000000</td>\n",
       "      <td>0.000000</td>\n",
       "      <td>0.000000</td>\n",
       "      <td>0.000000</td>\n",
       "    </tr>\n",
       "    <tr>\n",
       "      <th>2</th>\n",
       "      <td>1559667</td>\n",
       "      <td>0</td>\n",
       "      <td>0</td>\n",
       "      <td>0</td>\n",
       "      <td>0</td>\n",
       "      <td>0</td>\n",
       "      <td>0</td>\n",
       "      <td>0</td>\n",
       "      <td>0</td>\n",
       "      <td>0</td>\n",
       "      <td>...</td>\n",
       "      <td>1</td>\n",
       "      <td>64813.0</td>\n",
       "      <td>1</td>\n",
       "      <td>5</td>\n",
       "      <td>1095.0</td>\n",
       "      <td>245</td>\n",
       "      <td>0.926531</td>\n",
       "      <td>0.016327</td>\n",
       "      <td>0.008163</td>\n",
       "      <td>0.048980</td>\n",
       "    </tr>\n",
       "    <tr>\n",
       "      <th>3</th>\n",
       "      <td>1188733</td>\n",
       "      <td>0</td>\n",
       "      <td>0</td>\n",
       "      <td>0</td>\n",
       "      <td>0</td>\n",
       "      <td>0</td>\n",
       "      <td>1</td>\n",
       "      <td>0</td>\n",
       "      <td>0</td>\n",
       "      <td>0</td>\n",
       "      <td>...</td>\n",
       "      <td>0</td>\n",
       "      <td>60798.0</td>\n",
       "      <td>1</td>\n",
       "      <td>6</td>\n",
       "      <td>1094.0</td>\n",
       "      <td>25</td>\n",
       "      <td>0.840000</td>\n",
       "      <td>0.040000</td>\n",
       "      <td>0.000000</td>\n",
       "      <td>0.120000</td>\n",
       "    </tr>\n",
       "    <tr>\n",
       "      <th>4</th>\n",
       "      <td>518282</td>\n",
       "      <td>0</td>\n",
       "      <td>0</td>\n",
       "      <td>0</td>\n",
       "      <td>0</td>\n",
       "      <td>1</td>\n",
       "      <td>0</td>\n",
       "      <td>0</td>\n",
       "      <td>0</td>\n",
       "      <td>0</td>\n",
       "      <td>...</td>\n",
       "      <td>1</td>\n",
       "      <td>103958.0</td>\n",
       "      <td>1</td>\n",
       "      <td>6</td>\n",
       "      <td>1095.0</td>\n",
       "      <td>1209</td>\n",
       "      <td>0.990902</td>\n",
       "      <td>0.000827</td>\n",
       "      <td>0.006617</td>\n",
       "      <td>0.001654</td>\n",
       "    </tr>\n",
       "  </tbody>\n",
       "</table>\n",
       "<p>5 rows × 423 columns</p>\n",
       "</div>"
      ],
      "text/plain": [
       "   Unnamed: 0  AK  AL  AR  AZ  CA  CO  CT  DC  DE  ...  FULL_TIME_POSITION  \\\n",
       "0     1955893   0   0   0   0   0   0   0   0   0  ...                   1   \n",
       "1     2344329   0   0   0   0   1   0   0   0   0  ...                   1   \n",
       "2     1559667   0   0   0   0   0   0   0   0   0  ...                   1   \n",
       "3     1188733   0   0   0   0   0   1   0   0   0  ...                   0   \n",
       "4      518282   0   0   0   0   1   0   0   0   0  ...                   1   \n",
       "\n",
       "   total_wage  CASE_STATUS  CASE_DURATION  EMPLOYMENT_DURATION  \\\n",
       "0     67912.0            1              6               1095.0   \n",
       "1     95472.0            1              6               1095.0   \n",
       "2     64813.0            1              5               1095.0   \n",
       "3     60798.0            1              6               1094.0   \n",
       "4    103958.0            1              6               1095.0   \n",
       "\n",
       "   EMPLOYER_APPLICATION_COUNT  EMPLOYER_CERTIFIED_RATE  \\\n",
       "0                           5                 1.000000   \n",
       "1                          11                 1.000000   \n",
       "2                         245                 0.926531   \n",
       "3                          25                 0.840000   \n",
       "4                        1209                 0.990902   \n",
       "\n",
       "   EMPLOYER_CERTIFIED-WITHDRAWN_RATE  EMPLOYER_DENIED_RATE  \\\n",
       "0                           0.000000              0.000000   \n",
       "1                           0.000000              0.000000   \n",
       "2                           0.016327              0.008163   \n",
       "3                           0.040000              0.000000   \n",
       "4                           0.000827              0.006617   \n",
       "\n",
       "   EMPLOYER_WITHDRAWN_RATE  \n",
       "0                 0.000000  \n",
       "1                 0.000000  \n",
       "2                 0.048980  \n",
       "3                 0.120000  \n",
       "4                 0.001654  \n",
       "\n",
       "[5 rows x 423 columns]"
      ]
     },
     "execution_count": 2,
     "metadata": {},
     "output_type": "execute_result"
    }
   ],
   "source": [
    "data = pd.read_csv('train.csv',encoding = 'ISO-8859-1')\n",
    "data.head()"
   ]
  },
  {
   "cell_type": "code",
   "execution_count": 3,
   "id": "45525828",
   "metadata": {},
   "outputs": [],
   "source": [
    "X_tr = data.drop(['CASE_STATUS','EMPLOYER_NAME', 'EMPLOYER_CERTIFIED_RATE', 'EMPLOYER_CERTIFIED-WITHDRAWN_RATE',\n",
    "       'EMPLOYER_DENIED_RATE', 'EMPLOYER_WITHDRAWN_RATE'],axis=1)\n",
    "Y_tr = data['CASE_STATUS']"
   ]
  },
  {
   "cell_type": "code",
   "execution_count": 4,
   "id": "95b3d1d1",
   "metadata": {},
   "outputs": [
    {
     "data": {
      "text/plain": [
       "DecisionTreeClassifier(max_depth=2)"
      ]
     },
     "execution_count": 4,
     "metadata": {},
     "output_type": "execute_result"
    }
   ],
   "source": [
    "from sklearn.tree import DecisionTreeClassifier\n",
    "tree = DecisionTreeClassifier(max_depth=2)\n",
    "tree.fit(X_tr, Y_tr)"
   ]
  },
  {
   "cell_type": "code",
   "execution_count": 5,
   "id": "4dac9140",
   "metadata": {},
   "outputs": [],
   "source": [
    "# from sklearn.model_selection import cross_val_score\n",
    "# cross_val_score(tree, X_tr, Y_tr,\n",
    "#                 scoring=\"accuracy\", \n",
    "#                 cv=5).mean()"
   ]
  },
  {
   "cell_type": "code",
   "execution_count": 6,
   "id": "2521bed5",
   "metadata": {},
   "outputs": [
    {
     "data": {
      "text/html": [
       "<div>\n",
       "<style scoped>\n",
       "    .dataframe tbody tr th:only-of-type {\n",
       "        vertical-align: middle;\n",
       "    }\n",
       "\n",
       "    .dataframe tbody tr th {\n",
       "        vertical-align: top;\n",
       "    }\n",
       "\n",
       "    .dataframe thead th {\n",
       "        text-align: right;\n",
       "    }\n",
       "</style>\n",
       "<table border=\"1\" class=\"dataframe\">\n",
       "  <thead>\n",
       "    <tr style=\"text-align: right;\">\n",
       "      <th></th>\n",
       "      <th>Unnamed: 0</th>\n",
       "      <th>AK</th>\n",
       "      <th>AL</th>\n",
       "      <th>AR</th>\n",
       "      <th>AZ</th>\n",
       "      <th>CA</th>\n",
       "      <th>CO</th>\n",
       "      <th>CT</th>\n",
       "      <th>DC</th>\n",
       "      <th>DE</th>\n",
       "      <th>...</th>\n",
       "      <th>FULL_TIME_POSITION</th>\n",
       "      <th>total_wage</th>\n",
       "      <th>CASE_STATUS</th>\n",
       "      <th>CASE_DURATION</th>\n",
       "      <th>EMPLOYMENT_DURATION</th>\n",
       "      <th>EMPLOYER_APPLICATION_COUNT</th>\n",
       "      <th>EMPLOYER_CERTIFIED_RATE</th>\n",
       "      <th>EMPLOYER_CERTIFIED-WITHDRAWN_RATE</th>\n",
       "      <th>EMPLOYER_DENIED_RATE</th>\n",
       "      <th>EMPLOYER_WITHDRAWN_RATE</th>\n",
       "    </tr>\n",
       "  </thead>\n",
       "  <tbody>\n",
       "    <tr>\n",
       "      <th>0</th>\n",
       "      <td>1176480</td>\n",
       "      <td>0</td>\n",
       "      <td>0</td>\n",
       "      <td>0</td>\n",
       "      <td>0</td>\n",
       "      <td>0</td>\n",
       "      <td>0</td>\n",
       "      <td>0</td>\n",
       "      <td>0</td>\n",
       "      <td>0</td>\n",
       "      <td>...</td>\n",
       "      <td>0</td>\n",
       "      <td>68557.0</td>\n",
       "      <td>1</td>\n",
       "      <td>6</td>\n",
       "      <td>1094.0</td>\n",
       "      <td>6</td>\n",
       "      <td>1.000000</td>\n",
       "      <td>0.000000</td>\n",
       "      <td>0.000000</td>\n",
       "      <td>0.000000</td>\n",
       "    </tr>\n",
       "    <tr>\n",
       "      <th>1</th>\n",
       "      <td>1329173</td>\n",
       "      <td>0</td>\n",
       "      <td>0</td>\n",
       "      <td>0</td>\n",
       "      <td>0</td>\n",
       "      <td>0</td>\n",
       "      <td>0</td>\n",
       "      <td>0</td>\n",
       "      <td>0</td>\n",
       "      <td>0</td>\n",
       "      <td>...</td>\n",
       "      <td>1</td>\n",
       "      <td>66664.0</td>\n",
       "      <td>1</td>\n",
       "      <td>6</td>\n",
       "      <td>1094.0</td>\n",
       "      <td>3</td>\n",
       "      <td>1.000000</td>\n",
       "      <td>0.000000</td>\n",
       "      <td>0.000000</td>\n",
       "      <td>0.000000</td>\n",
       "    </tr>\n",
       "    <tr>\n",
       "      <th>2</th>\n",
       "      <td>1813587</td>\n",
       "      <td>0</td>\n",
       "      <td>0</td>\n",
       "      <td>0</td>\n",
       "      <td>0</td>\n",
       "      <td>0</td>\n",
       "      <td>0</td>\n",
       "      <td>0</td>\n",
       "      <td>0</td>\n",
       "      <td>0</td>\n",
       "      <td>...</td>\n",
       "      <td>1</td>\n",
       "      <td>142080000.0</td>\n",
       "      <td>1</td>\n",
       "      <td>4</td>\n",
       "      <td>463.0</td>\n",
       "      <td>10</td>\n",
       "      <td>1.000000</td>\n",
       "      <td>0.000000</td>\n",
       "      <td>0.000000</td>\n",
       "      <td>0.000000</td>\n",
       "    </tr>\n",
       "    <tr>\n",
       "      <th>3</th>\n",
       "      <td>1661179</td>\n",
       "      <td>0</td>\n",
       "      <td>0</td>\n",
       "      <td>0</td>\n",
       "      <td>0</td>\n",
       "      <td>0</td>\n",
       "      <td>0</td>\n",
       "      <td>0</td>\n",
       "      <td>0</td>\n",
       "      <td>0</td>\n",
       "      <td>...</td>\n",
       "      <td>1</td>\n",
       "      <td>119040000.0</td>\n",
       "      <td>1</td>\n",
       "      <td>6</td>\n",
       "      <td>1095.0</td>\n",
       "      <td>138</td>\n",
       "      <td>0.739130</td>\n",
       "      <td>0.260870</td>\n",
       "      <td>0.000000</td>\n",
       "      <td>0.000000</td>\n",
       "    </tr>\n",
       "    <tr>\n",
       "      <th>4</th>\n",
       "      <td>84154</td>\n",
       "      <td>0</td>\n",
       "      <td>0</td>\n",
       "      <td>0</td>\n",
       "      <td>0</td>\n",
       "      <td>0</td>\n",
       "      <td>0</td>\n",
       "      <td>0</td>\n",
       "      <td>0</td>\n",
       "      <td>0</td>\n",
       "      <td>...</td>\n",
       "      <td>1</td>\n",
       "      <td>63981.0</td>\n",
       "      <td>1</td>\n",
       "      <td>4</td>\n",
       "      <td>852.0</td>\n",
       "      <td>31224</td>\n",
       "      <td>0.818249</td>\n",
       "      <td>0.045029</td>\n",
       "      <td>0.008071</td>\n",
       "      <td>0.128651</td>\n",
       "    </tr>\n",
       "  </tbody>\n",
       "</table>\n",
       "<p>5 rows × 423 columns</p>\n",
       "</div>"
      ],
      "text/plain": [
       "   Unnamed: 0  AK  AL  AR  AZ  CA  CO  CT  DC  DE  ...  FULL_TIME_POSITION  \\\n",
       "0     1176480   0   0   0   0   0   0   0   0   0  ...                   0   \n",
       "1     1329173   0   0   0   0   0   0   0   0   0  ...                   1   \n",
       "2     1813587   0   0   0   0   0   0   0   0   0  ...                   1   \n",
       "3     1661179   0   0   0   0   0   0   0   0   0  ...                   1   \n",
       "4       84154   0   0   0   0   0   0   0   0   0  ...                   1   \n",
       "\n",
       "    total_wage  CASE_STATUS  CASE_DURATION  EMPLOYMENT_DURATION  \\\n",
       "0      68557.0            1              6               1094.0   \n",
       "1      66664.0            1              6               1094.0   \n",
       "2  142080000.0            1              4                463.0   \n",
       "3  119040000.0            1              6               1095.0   \n",
       "4      63981.0            1              4                852.0   \n",
       "\n",
       "   EMPLOYER_APPLICATION_COUNT  EMPLOYER_CERTIFIED_RATE  \\\n",
       "0                           6                 1.000000   \n",
       "1                           3                 1.000000   \n",
       "2                          10                 1.000000   \n",
       "3                         138                 0.739130   \n",
       "4                       31224                 0.818249   \n",
       "\n",
       "   EMPLOYER_CERTIFIED-WITHDRAWN_RATE  EMPLOYER_DENIED_RATE  \\\n",
       "0                           0.000000              0.000000   \n",
       "1                           0.000000              0.000000   \n",
       "2                           0.000000              0.000000   \n",
       "3                           0.260870              0.000000   \n",
       "4                           0.045029              0.008071   \n",
       "\n",
       "   EMPLOYER_WITHDRAWN_RATE  \n",
       "0                 0.000000  \n",
       "1                 0.000000  \n",
       "2                 0.000000  \n",
       "3                 0.000000  \n",
       "4                 0.128651  \n",
       "\n",
       "[5 rows x 423 columns]"
      ]
     },
     "execution_count": 6,
     "metadata": {},
     "output_type": "execute_result"
    }
   ],
   "source": [
    "data_test = pd.read_csv('test.csv',encoding = 'ISO-8859-1')\n",
    "data_test.head()"
   ]
  },
  {
   "cell_type": "code",
   "execution_count": 7,
   "id": "68cb8742",
   "metadata": {},
   "outputs": [],
   "source": [
    "from sklearn import metrics\n",
    "from sklearn.metrics import recall_score, precision_score, balanced_accuracy_score, f1_score\n",
    "import warnings\n",
    "warnings.filterwarnings('ignore')"
   ]
  },
  {
   "cell_type": "markdown",
   "id": "5e9f47b2",
   "metadata": {},
   "source": [
    "### Performance on Training Set"
   ]
  },
  {
   "cell_type": "code",
   "execution_count": 8,
   "id": "f9b73848",
   "metadata": {},
   "outputs": [],
   "source": [
    "Y_pred = tree.predict(X_tr)"
   ]
  },
  {
   "cell_type": "code",
   "execution_count": 9,
   "id": "120933b2",
   "metadata": {},
   "outputs": [
    {
     "name": "stdout",
     "output_type": "stream",
     "text": [
      "Accuracy: 0.9819637903026627\n",
      "Weighted Accuracy: 0.9246610574186359\n",
      "Precision: 0.9822737859417031\n",
      "Recall: 0.9819637903026627\n",
      "F1 Score: 0.9813292780402884\n"
     ]
    }
   ],
   "source": [
    "print(\"Accuracy:\",metrics.accuracy_score(Y_tr, Y_pred))\n",
    "print(\"Weighted Accuracy:\",balanced_accuracy_score(Y_tr, Y_pred))\n",
    "print(\"Precision:\",precision_score(Y_tr, Y_pred, average='weighted'))\n",
    "print(\"Recall:\",recall_score(Y_tr, Y_pred, average='weighted'))\n",
    "print(\"F1 Score:\",f1_score(Y_tr, Y_pred, average='weighted'))"
   ]
  },
  {
   "cell_type": "code",
   "execution_count": 10,
   "id": "e7ba7280",
   "metadata": {},
   "outputs": [
    {
     "name": "stdout",
     "output_type": "stream",
     "text": [
      "F1 Score: 0.9538070812170985\n"
     ]
    }
   ],
   "source": [
    "print(\"F1 Score:\",f1_score(Y_tr, Y_pred, average='macro'))"
   ]
  },
  {
   "cell_type": "code",
   "execution_count": 11,
   "id": "02af4b81",
   "metadata": {},
   "outputs": [
    {
     "name": "stdout",
     "output_type": "stream",
     "text": [
      "F1 Score: [0.91774269 0.98987148]\n"
     ]
    }
   ],
   "source": [
    "print(\"F1 Score:\",f1_score(Y_tr, Y_pred, average=None))"
   ]
  },
  {
   "cell_type": "markdown",
   "id": "66421d87",
   "metadata": {},
   "source": [
    "### Performance on Test Set"
   ]
  },
  {
   "cell_type": "code",
   "execution_count": 12,
   "id": "19ed7e8a",
   "metadata": {},
   "outputs": [],
   "source": [
    "X_test = data_test.drop(['CASE_STATUS','EMPLOYER_NAME', 'EMPLOYER_CERTIFIED_RATE', 'EMPLOYER_CERTIFIED-WITHDRAWN_RATE',\n",
    "       'EMPLOYER_DENIED_RATE', 'EMPLOYER_WITHDRAWN_RATE'],axis=1)\n",
    "y_pred = tree.predict(X_test)"
   ]
  },
  {
   "cell_type": "code",
   "execution_count": 13,
   "id": "711e22bc",
   "metadata": {},
   "outputs": [],
   "source": [
    "y_test = data_test['CASE_STATUS']"
   ]
  },
  {
   "cell_type": "code",
   "execution_count": 14,
   "id": "c321fa03",
   "metadata": {},
   "outputs": [
    {
     "name": "stdout",
     "output_type": "stream",
     "text": [
      "Accuracy: 0.9819788619511013\n",
      "Weighted Accuracy: 0.9248763639714404\n",
      "Precision: 0.9822788751531069\n",
      "Recall: 0.9819788619511013\n",
      "F1 Score: 0.9813487463387317\n"
     ]
    }
   ],
   "source": [
    "print(\"Accuracy:\",metrics.accuracy_score(y_test, y_pred))\n",
    "print(\"Weighted Accuracy:\",balanced_accuracy_score(y_test, y_pred))\n",
    "print(\"Precision:\",precision_score(y_test, y_pred, average='weighted'))\n",
    "print(\"Recall:\",recall_score(y_test, y_pred, average='weighted'))\n",
    "print(\"F1 Score:\",f1_score(y_test, y_pred, average='weighted'))"
   ]
  },
  {
   "cell_type": "code",
   "execution_count": 15,
   "id": "f945d4ac",
   "metadata": {},
   "outputs": [
    {
     "name": "stdout",
     "output_type": "stream",
     "text": [
      "F1 Score: 0.9538635085810905\n"
     ]
    }
   ],
   "source": [
    "print(\"F1 Score:\",f1_score(y_test, y_pred, average='macro'))"
   ]
  },
  {
   "cell_type": "code",
   "execution_count": 16,
   "id": "4d5d08b0",
   "metadata": {},
   "outputs": [
    {
     "name": "stdout",
     "output_type": "stream",
     "text": [
      "F1 Score: [0.98987939 0.91784763]\n"
     ]
    }
   ],
   "source": [
    "print(\"F1 Score:\",f1_score(y_test, y_pred, labels=[1, 0], average=None))\n"
   ]
  },
  {
   "cell_type": "code",
   "execution_count": 17,
   "id": "f3183ae8",
   "metadata": {},
   "outputs": [],
   "source": [
    "from sklearn.ensemble import BaggingClassifier"
   ]
  },
  {
   "cell_type": "code",
   "execution_count": 18,
   "id": "a32ab975",
   "metadata": {},
   "outputs": [],
   "source": [
    "bagging_1 = BaggingClassifier(base_estimator=DecisionTreeClassifier(max_leaf_nodes=3), \n",
    "                              max_samples=1000, n_estimators=10)\n",
    "bagging_1.fit(X_tr, Y_tr)\n",
    "y_pred = bagging_1.predict(X_test)"
   ]
  },
  {
   "cell_type": "code",
   "execution_count": 19,
   "id": "2e154c94",
   "metadata": {},
   "outputs": [
    {
     "name": "stdout",
     "output_type": "stream",
     "text": [
      "Accuracy: 0.9819788619511013\n",
      "Weighted Accuracy: 0.9248763639714404\n",
      "Precision: 0.9822788751531069\n",
      "Recall: 0.9819788619511013\n",
      "F1 Score: [0.91784763 0.98987939]\n"
     ]
    }
   ],
   "source": [
    "print(\"Accuracy:\",metrics.accuracy_score(y_test, y_pred))\n",
    "print(\"Weighted Accuracy:\",balanced_accuracy_score(y_test, y_pred))\n",
    "print(\"Precision:\",precision_score(y_test, y_pred, average='weighted'))\n",
    "print(\"Recall:\",recall_score(y_test, y_pred, average='weighted'))\n",
    "print(\"F1 Score:\",f1_score(y_test, y_pred, average=None))"
   ]
  },
  {
   "cell_type": "code",
   "execution_count": 20,
   "id": "84d49d46",
   "metadata": {},
   "outputs": [],
   "source": [
    "import pickle\n",
    "filename = 'rf_initial_model1.sav'\n",
    "pickle.dump(bagging_1, open(filename, 'wb'))"
   ]
  },
  {
   "cell_type": "code",
   "execution_count": null,
   "id": "8f681ddd",
   "metadata": {},
   "outputs": [],
   "source": []
  }
 ],
 "metadata": {
  "kernelspec": {
   "display_name": "Python 3",
   "language": "python",
   "name": "python3"
  },
  "language_info": {
   "codemirror_mode": {
    "name": "ipython",
    "version": 3
   },
   "file_extension": ".py",
   "mimetype": "text/x-python",
   "name": "python",
   "nbconvert_exporter": "python",
   "pygments_lexer": "ipython3",
   "version": "3.8.8"
  }
 },
 "nbformat": 4,
 "nbformat_minor": 5
}

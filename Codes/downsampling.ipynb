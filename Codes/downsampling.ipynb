{
 "cells": [
  {
   "cell_type": "code",
   "execution_count": 1,
   "metadata": {},
   "outputs": [],
   "source": [
    "import pandas as pd\n",
    "import numpy as np"
   ]
  },
  {
   "cell_type": "code",
   "execution_count": 2,
   "metadata": {},
   "outputs": [],
   "source": [
    "training_data = pd.read_csv('../DATA/train_normalized_4labels.csv')\n"
   ]
  },
  {
   "cell_type": "code",
   "execution_count": 3,
   "metadata": {},
   "outputs": [],
   "source": [
    "test_data = pd.read_csv('../DATA/test_normalized_4labels.csv')\n"
   ]
  },
  {
   "cell_type": "code",
   "execution_count": 4,
   "metadata": {},
   "outputs": [],
   "source": [
    "n_sample = 24748+54542+122582\n",
    "# 'CERTIFIED': 1502699, 'CERTIFIED-WITHDRAWN': 122582, 'WITHDRAWN': 54542, 'DENIED': 24748\n",
    "data = training_data[training_data['CASE_STATUS']\n",
    "                     == 'CERTIFIED'].sample(n_sample)\n",
    "for c in ['CERTIFIED-WITHDRAWN', 'DENIED', 'WITHDRAWN']:\n",
    "    T = training_data[training_data['CASE_STATUS']\n",
    "                      == c]\n",
    "    data = data.append(T)\n",
    "data.columns = training_data.columns\n",
    "data = data.iloc[:,1:]\n"
   ]
  },
  {
   "cell_type": "code",
   "execution_count": 5,
   "metadata": {},
   "outputs": [],
   "source": [
    "test_data = test_data.iloc[:,1:]"
   ]
  },
  {
   "cell_type": "code",
   "execution_count": 6,
   "metadata": {},
   "outputs": [],
   "source": [
    "import re"
   ]
  },
  {
   "cell_type": "code",
   "execution_count": 7,
   "metadata": {},
   "outputs": [],
   "source": [
    "data.columns = pd.Series(test_data.columns).apply(lambda x: re.sub('\\.','_emp_state',x))\n",
    "test_data.columns = data.columns\n",
    "data.to_csv('../DATA/training_downsampling_2labels.csv')\n",
    "test_data.to_csv('../DATA/test_downsampling_2labels.csv')\n"
   ]
  },
  {
   "cell_type": "code",
   "execution_count": null,
   "metadata": {},
   "outputs": [],
   "source": []
  }
 ],
 "metadata": {
  "interpreter": {
   "hash": "40d3a090f54c6569ab1632332b64b2c03c39dcf918b08424e98f38b5ae0af88f"
  },
  "kernelspec": {
   "display_name": "Python 3.8.0 64-bit ('base': conda)",
   "name": "python3"
  },
  "language_info": {
   "codemirror_mode": {
    "name": "ipython",
    "version": 3
   },
   "file_extension": ".py",
   "mimetype": "text/x-python",
   "name": "python",
   "nbconvert_exporter": "python",
   "pygments_lexer": "ipython3",
   "version": "3.8.0"
  },
  "orig_nbformat": 4
 },
 "nbformat": 4,
 "nbformat_minor": 2
}

{
 "cells": [
  {
   "cell_type": "code",
   "execution_count": 1,
   "metadata": {},
   "outputs": [],
   "source": [
    "import pandas as pd\n",
    "import numpy as np"
   ]
  },
  {
   "cell_type": "code",
   "execution_count": 2,
   "metadata": {},
   "outputs": [],
   "source": [
    "training_data = pd.read_csv('train.csv')"
   ]
  },
  {
   "cell_type": "code",
   "execution_count": 16,
   "metadata": {},
   "outputs": [],
   "source": [
    "test_data = pd.read_csv('test.csv')"
   ]
  },
  {
   "cell_type": "code",
   "execution_count": 4,
   "metadata": {},
   "outputs": [],
   "source": [
    "y_training = training_data['CASE_STATUS']\n",
    "y_test = test_data['CASE_STATUS']\n",
    "training_data.index = training_data.iloc[:, 0]\n",
    "test_data.index = test_data.iloc[:, 0]\n",
    "training_data = training_data.drop(columns = ['CASE_STATUS']).iloc[:,1:]\n",
    "test_data = test_data.drop(columns=['CASE_STATUS']).iloc[:, 1:]"
   ]
  },
  {
   "cell_type": "code",
   "execution_count": 5,
   "metadata": {},
   "outputs": [
    {
     "data": {
      "text/html": [
       "<div>\n",
       "<style scoped>\n",
       "    .dataframe tbody tr th:only-of-type {\n",
       "        vertical-align: middle;\n",
       "    }\n",
       "\n",
       "    .dataframe tbody tr th {\n",
       "        vertical-align: top;\n",
       "    }\n",
       "\n",
       "    .dataframe thead th {\n",
       "        text-align: right;\n",
       "    }\n",
       "</style>\n",
       "<table border=\"1\" class=\"dataframe\">\n",
       "  <thead>\n",
       "    <tr style=\"text-align: right;\">\n",
       "      <th></th>\n",
       "      <th>AK</th>\n",
       "      <th>AL</th>\n",
       "      <th>AR</th>\n",
       "      <th>AZ</th>\n",
       "      <th>CA</th>\n",
       "      <th>CO</th>\n",
       "      <th>CT</th>\n",
       "      <th>DC</th>\n",
       "      <th>DE</th>\n",
       "      <th>FL</th>\n",
       "      <th>...</th>\n",
       "      <th>PREVAILING_WAGE</th>\n",
       "      <th>FULL_TIME_POSITION</th>\n",
       "      <th>total_wage</th>\n",
       "      <th>CASE_DURATION</th>\n",
       "      <th>EMPLOYMENT_DURATION</th>\n",
       "      <th>EMPLOYER_APPLICATION_COUNT</th>\n",
       "      <th>EMPLOYER_CERTIFIED_RATE</th>\n",
       "      <th>EMPLOYER_CERTIFIED-WITHDRAWN_RATE</th>\n",
       "      <th>EMPLOYER_DENIED_RATE</th>\n",
       "      <th>EMPLOYER_WITHDRAWN_RATE</th>\n",
       "    </tr>\n",
       "    <tr>\n",
       "      <th>Unnamed: 0</th>\n",
       "      <th></th>\n",
       "      <th></th>\n",
       "      <th></th>\n",
       "      <th></th>\n",
       "      <th></th>\n",
       "      <th></th>\n",
       "      <th></th>\n",
       "      <th></th>\n",
       "      <th></th>\n",
       "      <th></th>\n",
       "      <th></th>\n",
       "      <th></th>\n",
       "      <th></th>\n",
       "      <th></th>\n",
       "      <th></th>\n",
       "      <th></th>\n",
       "      <th></th>\n",
       "      <th></th>\n",
       "      <th></th>\n",
       "      <th></th>\n",
       "      <th></th>\n",
       "    </tr>\n",
       "  </thead>\n",
       "  <tbody>\n",
       "    <tr>\n",
       "      <th>1336192</th>\n",
       "      <td>0</td>\n",
       "      <td>0</td>\n",
       "      <td>0</td>\n",
       "      <td>0</td>\n",
       "      <td>0</td>\n",
       "      <td>0</td>\n",
       "      <td>0</td>\n",
       "      <td>0</td>\n",
       "      <td>0</td>\n",
       "      <td>0</td>\n",
       "      <td>...</td>\n",
       "      <td>74963.0</td>\n",
       "      <td>1</td>\n",
       "      <td>74963.0</td>\n",
       "      <td>4</td>\n",
       "      <td>1094.0</td>\n",
       "      <td>36828</td>\n",
       "      <td>0.978386</td>\n",
       "      <td>0.000244</td>\n",
       "      <td>0.011703</td>\n",
       "      <td>0.009667</td>\n",
       "    </tr>\n",
       "    <tr>\n",
       "      <th>1265192</th>\n",
       "      <td>0</td>\n",
       "      <td>0</td>\n",
       "      <td>0</td>\n",
       "      <td>0</td>\n",
       "      <td>1</td>\n",
       "      <td>0</td>\n",
       "      <td>0</td>\n",
       "      <td>0</td>\n",
       "      <td>0</td>\n",
       "      <td>0</td>\n",
       "      <td>...</td>\n",
       "      <td>101650.0</td>\n",
       "      <td>1</td>\n",
       "      <td>101650.0</td>\n",
       "      <td>6</td>\n",
       "      <td>1095.0</td>\n",
       "      <td>138</td>\n",
       "      <td>0.847826</td>\n",
       "      <td>0.130435</td>\n",
       "      <td>0.007246</td>\n",
       "      <td>0.014493</td>\n",
       "    </tr>\n",
       "    <tr>\n",
       "      <th>2347539</th>\n",
       "      <td>0</td>\n",
       "      <td>0</td>\n",
       "      <td>0</td>\n",
       "      <td>0</td>\n",
       "      <td>0</td>\n",
       "      <td>0</td>\n",
       "      <td>0</td>\n",
       "      <td>0</td>\n",
       "      <td>0</td>\n",
       "      <td>0</td>\n",
       "      <td>...</td>\n",
       "      <td>48000.0</td>\n",
       "      <td>1</td>\n",
       "      <td>92160000.0</td>\n",
       "      <td>6</td>\n",
       "      <td>1095.0</td>\n",
       "      <td>5</td>\n",
       "      <td>1.000000</td>\n",
       "      <td>0.000000</td>\n",
       "      <td>0.000000</td>\n",
       "      <td>0.000000</td>\n",
       "    </tr>\n",
       "    <tr>\n",
       "      <th>1801546</th>\n",
       "      <td>0</td>\n",
       "      <td>0</td>\n",
       "      <td>0</td>\n",
       "      <td>0</td>\n",
       "      <td>0</td>\n",
       "      <td>0</td>\n",
       "      <td>0</td>\n",
       "      <td>1</td>\n",
       "      <td>0</td>\n",
       "      <td>0</td>\n",
       "      <td>...</td>\n",
       "      <td>72000.0</td>\n",
       "      <td>1</td>\n",
       "      <td>72000.0</td>\n",
       "      <td>6</td>\n",
       "      <td>1096.0</td>\n",
       "      <td>11</td>\n",
       "      <td>0.636364</td>\n",
       "      <td>0.090909</td>\n",
       "      <td>0.181818</td>\n",
       "      <td>0.090909</td>\n",
       "    </tr>\n",
       "    <tr>\n",
       "      <th>2401379</th>\n",
       "      <td>0</td>\n",
       "      <td>0</td>\n",
       "      <td>0</td>\n",
       "      <td>0</td>\n",
       "      <td>0</td>\n",
       "      <td>0</td>\n",
       "      <td>0</td>\n",
       "      <td>0</td>\n",
       "      <td>0</td>\n",
       "      <td>0</td>\n",
       "      <td>...</td>\n",
       "      <td>63336.0</td>\n",
       "      <td>1</td>\n",
       "      <td>63336.0</td>\n",
       "      <td>4</td>\n",
       "      <td>1095.0</td>\n",
       "      <td>3</td>\n",
       "      <td>1.000000</td>\n",
       "      <td>0.000000</td>\n",
       "      <td>0.000000</td>\n",
       "      <td>0.000000</td>\n",
       "    </tr>\n",
       "  </tbody>\n",
       "</table>\n",
       "<p>5 rows × 756 columns</p>\n",
       "</div>"
      ],
      "text/plain": [
       "            AK  AL  AR  AZ  CA  CO  CT  DC  DE  FL  ...  PREVAILING_WAGE  \\\n",
       "Unnamed: 0                                          ...                    \n",
       "1336192      0   0   0   0   0   0   0   0   0   0  ...          74963.0   \n",
       "1265192      0   0   0   0   1   0   0   0   0   0  ...         101650.0   \n",
       "2347539      0   0   0   0   0   0   0   0   0   0  ...          48000.0   \n",
       "1801546      0   0   0   0   0   0   0   1   0   0  ...          72000.0   \n",
       "2401379      0   0   0   0   0   0   0   0   0   0  ...          63336.0   \n",
       "\n",
       "            FULL_TIME_POSITION  total_wage  CASE_DURATION  \\\n",
       "Unnamed: 0                                                  \n",
       "1336192                      1     74963.0              4   \n",
       "1265192                      1    101650.0              6   \n",
       "2347539                      1  92160000.0              6   \n",
       "1801546                      1     72000.0              6   \n",
       "2401379                      1     63336.0              4   \n",
       "\n",
       "            EMPLOYMENT_DURATION  EMPLOYER_APPLICATION_COUNT  \\\n",
       "Unnamed: 0                                                    \n",
       "1336192                  1094.0                       36828   \n",
       "1265192                  1095.0                         138   \n",
       "2347539                  1095.0                           5   \n",
       "1801546                  1096.0                          11   \n",
       "2401379                  1095.0                           3   \n",
       "\n",
       "            EMPLOYER_CERTIFIED_RATE  EMPLOYER_CERTIFIED-WITHDRAWN_RATE  \\\n",
       "Unnamed: 0                                                               \n",
       "1336192                    0.978386                           0.000244   \n",
       "1265192                    0.847826                           0.130435   \n",
       "2347539                    1.000000                           0.000000   \n",
       "1801546                    0.636364                           0.090909   \n",
       "2401379                    1.000000                           0.000000   \n",
       "\n",
       "            EMPLOYER_DENIED_RATE  EMPLOYER_WITHDRAWN_RATE  \n",
       "Unnamed: 0                                                 \n",
       "1336192                 0.011703                 0.009667  \n",
       "1265192                 0.007246                 0.014493  \n",
       "2347539                 0.000000                 0.000000  \n",
       "1801546                 0.181818                 0.090909  \n",
       "2401379                 0.000000                 0.000000  \n",
       "\n",
       "[5 rows x 756 columns]"
      ]
     },
     "execution_count": 5,
     "metadata": {},
     "output_type": "execute_result"
    }
   ],
   "source": [
    "try:\n",
    "    training_data = training_data.drop(columns = ['EMPLOYER_NAME'])\n",
    "except:\n",
    "    pass\n",
    "try: \n",
    "    test_data = test_data.drop(columns = ['EMPLOYER_NAME'])\n",
    "except:\n",
    "    pass\n",
    "training_data.head()"
   ]
  },
  {
   "cell_type": "code",
   "execution_count": 6,
   "metadata": {},
   "outputs": [],
   "source": [
    "from sklearn.discriminant_analysis import LinearDiscriminantAnalysis as lda\n",
    "from sklearn.discriminant_analysis import QuadraticDiscriminantAnalysis as qda\n"
   ]
  },
  {
   "cell_type": "code",
   "execution_count": 7,
   "metadata": {},
   "outputs": [
    {
     "data": {
      "text/plain": [
       "LinearDiscriminantAnalysis()"
      ]
     },
     "execution_count": 7,
     "metadata": {},
     "output_type": "execute_result"
    }
   ],
   "source": [
    "# The training may cost about 40min. \n",
    "qda_model = lda()\n",
    "qda_model.fit(training_data, y_training)"
   ]
  },
  {
   "cell_type": "code",
   "execution_count": 9,
   "metadata": {},
   "outputs": [],
   "source": [
    "prediction = qda_model.predict(test_data)"
   ]
  },
  {
   "cell_type": "code",
   "execution_count": 17,
   "metadata": {},
   "outputs": [],
   "source": [
    "y_test = test_data['CASE_STATUS']\n",
    "test_data.index = test_data.iloc[:, 0]\n",
    "test_data = test_data.drop(columns=['CASE_STATUS']).iloc[:, 1:]"
   ]
  },
  {
   "cell_type": "code",
   "execution_count": 20,
   "metadata": {},
   "outputs": [
    {
     "data": {
      "text/plain": [
       "0.9160747456302334"
      ]
     },
     "execution_count": 20,
     "metadata": {},
     "output_type": "execute_result"
    }
   ],
   "source": [
    "np.mean(prediction == y_test)"
   ]
  },
  {
   "cell_type": "code",
   "execution_count": 22,
   "metadata": {},
   "outputs": [
    {
     "data": {
      "text/plain": [
       "0.9198651391932717"
      ]
     },
     "execution_count": 22,
     "metadata": {},
     "output_type": "execute_result"
    }
   ],
   "source": [
    "sum(prediction == 'CERTIFIED')/len(prediction)"
   ]
  },
  {
   "cell_type": "code",
   "execution_count": 24,
   "metadata": {},
   "outputs": [
    {
     "data": {
      "text/plain": [
       "\"\\n# load the model from disk.\\nloaded_model = pickle. load(open(filename, 'rb'))\\nresult = loaded_model. score(X_test, Y_test)\\n\""
      ]
     },
     "execution_count": 24,
     "metadata": {},
     "output_type": "execute_result"
    }
   ],
   "source": [
    "import pickle\n",
    "filename = 'lda_initial_model.sav'\n",
    "pickle.dump(qda_model, open(filename, 'wb'))\n",
    "'''\n",
    "# load the model from disk.\n",
    "loaded_model = pickle. load(open(filename, 'rb'))\n",
    "result = loaded_model. score(X_test, Y_test)\n",
    "'''\n"
   ]
  },
  {
   "cell_type": "code",
   "execution_count": null,
   "metadata": {},
   "outputs": [],
   "source": []
  }
 ],
 "metadata": {
  "interpreter": {
   "hash": "40d3a090f54c6569ab1632332b64b2c03c39dcf918b08424e98f38b5ae0af88f"
  },
  "kernelspec": {
   "display_name": "Python 3.8.0 64-bit ('base': conda)",
   "name": "python3"
  },
  "language_info": {
   "codemirror_mode": {
    "name": "ipython",
    "version": 3
   },
   "file_extension": ".py",
   "mimetype": "text/x-python",
   "name": "python",
   "nbconvert_exporter": "python",
   "pygments_lexer": "ipython3",
   "version": "3.8.0"
  },
  "orig_nbformat": 4
 },
 "nbformat": 4,
 "nbformat_minor": 2
}

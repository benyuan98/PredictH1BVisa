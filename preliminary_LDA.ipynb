{
 "cells": [
  {
   "cell_type": "code",
   "execution_count": 25,
   "metadata": {},
   "outputs": [],
   "source": [
    "import pandas as pd\n",
    "import numpy as np"
   ]
  },
  {
   "cell_type": "code",
   "execution_count": 26,
   "metadata": {},
   "outputs": [],
   "source": [
    "training_data = pd.read_csv('train.csv')"
   ]
  },
  {
   "cell_type": "code",
   "execution_count": 27,
   "metadata": {},
   "outputs": [],
   "source": [
    "test_data = pd.read_csv('test.csv')"
   ]
  },
  {
   "cell_type": "code",
   "execution_count": 28,
   "metadata": {},
   "outputs": [],
   "source": [
    "y_training = training_data['CASE_STATUS']\n",
    "y_test = test_data['CASE_STATUS']\n",
    "training_data.index = training_data.iloc[:, 0]\n",
    "test_data.index = test_data.iloc[:, 0]\n",
    "training_data = training_data.drop(columns = ['CASE_STATUS']).iloc[:,1:]\n",
    "test_data = test_data.drop(columns=['CASE_STATUS']).iloc[:, 1:]"
   ]
  },
  {
   "cell_type": "code",
   "execution_count": 29,
   "metadata": {},
   "outputs": [
    {
     "data": {
      "text/html": [
       "<div>\n",
       "<style scoped>\n",
       "    .dataframe tbody tr th:only-of-type {\n",
       "        vertical-align: middle;\n",
       "    }\n",
       "\n",
       "    .dataframe tbody tr th {\n",
       "        vertical-align: top;\n",
       "    }\n",
       "\n",
       "    .dataframe thead th {\n",
       "        text-align: right;\n",
       "    }\n",
       "</style>\n",
       "<table border=\"1\" class=\"dataframe\">\n",
       "  <thead>\n",
       "    <tr style=\"text-align: right;\">\n",
       "      <th></th>\n",
       "      <th>AK</th>\n",
       "      <th>AL</th>\n",
       "      <th>AR</th>\n",
       "      <th>AZ</th>\n",
       "      <th>CA</th>\n",
       "      <th>CO</th>\n",
       "      <th>CT</th>\n",
       "      <th>DC</th>\n",
       "      <th>DE</th>\n",
       "      <th>FL</th>\n",
       "      <th>...</th>\n",
       "      <th>PREVAILING_WAGE</th>\n",
       "      <th>FULL_TIME_POSITION</th>\n",
       "      <th>total_wage</th>\n",
       "      <th>CASE_DURATION</th>\n",
       "      <th>EMPLOYMENT_DURATION</th>\n",
       "      <th>EMPLOYER_APPLICATION_COUNT</th>\n",
       "      <th>EMPLOYER_CERTIFIED_RATE</th>\n",
       "      <th>EMPLOYER_CERTIFIED-WITHDRAWN_RATE</th>\n",
       "      <th>EMPLOYER_DENIED_RATE</th>\n",
       "      <th>EMPLOYER_WITHDRAWN_RATE</th>\n",
       "    </tr>\n",
       "    <tr>\n",
       "      <th>Unnamed: 0</th>\n",
       "      <th></th>\n",
       "      <th></th>\n",
       "      <th></th>\n",
       "      <th></th>\n",
       "      <th></th>\n",
       "      <th></th>\n",
       "      <th></th>\n",
       "      <th></th>\n",
       "      <th></th>\n",
       "      <th></th>\n",
       "      <th></th>\n",
       "      <th></th>\n",
       "      <th></th>\n",
       "      <th></th>\n",
       "      <th></th>\n",
       "      <th></th>\n",
       "      <th></th>\n",
       "      <th></th>\n",
       "      <th></th>\n",
       "      <th></th>\n",
       "      <th></th>\n",
       "    </tr>\n",
       "  </thead>\n",
       "  <tbody>\n",
       "    <tr>\n",
       "      <th>1365368</th>\n",
       "      <td>0</td>\n",
       "      <td>0</td>\n",
       "      <td>0</td>\n",
       "      <td>0</td>\n",
       "      <td>0</td>\n",
       "      <td>0</td>\n",
       "      <td>0</td>\n",
       "      <td>0</td>\n",
       "      <td>0</td>\n",
       "      <td>0</td>\n",
       "      <td>...</td>\n",
       "      <td>60590.0</td>\n",
       "      <td>1</td>\n",
       "      <td>60590.0</td>\n",
       "      <td>6</td>\n",
       "      <td>1095.0</td>\n",
       "      <td>8107</td>\n",
       "      <td>0.933761</td>\n",
       "      <td>0.011348</td>\n",
       "      <td>0.006784</td>\n",
       "      <td>0.048107</td>\n",
       "    </tr>\n",
       "    <tr>\n",
       "      <th>256086</th>\n",
       "      <td>0</td>\n",
       "      <td>0</td>\n",
       "      <td>0</td>\n",
       "      <td>0</td>\n",
       "      <td>0</td>\n",
       "      <td>0</td>\n",
       "      <td>0</td>\n",
       "      <td>0</td>\n",
       "      <td>0</td>\n",
       "      <td>0</td>\n",
       "      <td>...</td>\n",
       "      <td>68848.0</td>\n",
       "      <td>1</td>\n",
       "      <td>68848.0</td>\n",
       "      <td>6</td>\n",
       "      <td>1096.0</td>\n",
       "      <td>377</td>\n",
       "      <td>0.992042</td>\n",
       "      <td>0.000000</td>\n",
       "      <td>0.005305</td>\n",
       "      <td>0.002653</td>\n",
       "    </tr>\n",
       "    <tr>\n",
       "      <th>49861</th>\n",
       "      <td>0</td>\n",
       "      <td>0</td>\n",
       "      <td>0</td>\n",
       "      <td>0</td>\n",
       "      <td>0</td>\n",
       "      <td>0</td>\n",
       "      <td>0</td>\n",
       "      <td>0</td>\n",
       "      <td>0</td>\n",
       "      <td>0</td>\n",
       "      <td>...</td>\n",
       "      <td>95576.0</td>\n",
       "      <td>1</td>\n",
       "      <td>95576.0</td>\n",
       "      <td>6</td>\n",
       "      <td>1095.0</td>\n",
       "      <td>165</td>\n",
       "      <td>0.757576</td>\n",
       "      <td>0.206061</td>\n",
       "      <td>0.000000</td>\n",
       "      <td>0.036364</td>\n",
       "    </tr>\n",
       "    <tr>\n",
       "      <th>1356598</th>\n",
       "      <td>0</td>\n",
       "      <td>0</td>\n",
       "      <td>0</td>\n",
       "      <td>0</td>\n",
       "      <td>0</td>\n",
       "      <td>0</td>\n",
       "      <td>0</td>\n",
       "      <td>0</td>\n",
       "      <td>0</td>\n",
       "      <td>0</td>\n",
       "      <td>...</td>\n",
       "      <td>105019.0</td>\n",
       "      <td>1</td>\n",
       "      <td>105019.0</td>\n",
       "      <td>7</td>\n",
       "      <td>1094.0</td>\n",
       "      <td>96</td>\n",
       "      <td>0.843750</td>\n",
       "      <td>0.093750</td>\n",
       "      <td>0.041667</td>\n",
       "      <td>0.020833</td>\n",
       "    </tr>\n",
       "    <tr>\n",
       "      <th>220438</th>\n",
       "      <td>0</td>\n",
       "      <td>0</td>\n",
       "      <td>0</td>\n",
       "      <td>0</td>\n",
       "      <td>0</td>\n",
       "      <td>0</td>\n",
       "      <td>0</td>\n",
       "      <td>0</td>\n",
       "      <td>0</td>\n",
       "      <td>0</td>\n",
       "      <td>...</td>\n",
       "      <td>46000.0</td>\n",
       "      <td>1</td>\n",
       "      <td>88320000.0</td>\n",
       "      <td>6</td>\n",
       "      <td>1095.0</td>\n",
       "      <td>1523</td>\n",
       "      <td>0.990151</td>\n",
       "      <td>0.000000</td>\n",
       "      <td>0.009849</td>\n",
       "      <td>0.000000</td>\n",
       "    </tr>\n",
       "  </tbody>\n",
       "</table>\n",
       "<p>5 rows × 420 columns</p>\n",
       "</div>"
      ],
      "text/plain": [
       "            AK  AL  AR  AZ  CA  CO  CT  DC  DE  FL  ...  PREVAILING_WAGE  \\\n",
       "Unnamed: 0                                          ...                    \n",
       "1365368      0   0   0   0   0   0   0   0   0   0  ...          60590.0   \n",
       "256086       0   0   0   0   0   0   0   0   0   0  ...          68848.0   \n",
       "49861        0   0   0   0   0   0   0   0   0   0  ...          95576.0   \n",
       "1356598      0   0   0   0   0   0   0   0   0   0  ...         105019.0   \n",
       "220438       0   0   0   0   0   0   0   0   0   0  ...          46000.0   \n",
       "\n",
       "            FULL_TIME_POSITION  total_wage  CASE_DURATION  \\\n",
       "Unnamed: 0                                                  \n",
       "1365368                      1     60590.0              6   \n",
       "256086                       1     68848.0              6   \n",
       "49861                        1     95576.0              6   \n",
       "1356598                      1    105019.0              7   \n",
       "220438                       1  88320000.0              6   \n",
       "\n",
       "            EMPLOYMENT_DURATION  EMPLOYER_APPLICATION_COUNT  \\\n",
       "Unnamed: 0                                                    \n",
       "1365368                  1095.0                        8107   \n",
       "256086                   1096.0                         377   \n",
       "49861                    1095.0                         165   \n",
       "1356598                  1094.0                          96   \n",
       "220438                   1095.0                        1523   \n",
       "\n",
       "            EMPLOYER_CERTIFIED_RATE  EMPLOYER_CERTIFIED-WITHDRAWN_RATE  \\\n",
       "Unnamed: 0                                                               \n",
       "1365368                    0.933761                           0.011348   \n",
       "256086                     0.992042                           0.000000   \n",
       "49861                      0.757576                           0.206061   \n",
       "1356598                    0.843750                           0.093750   \n",
       "220438                     0.990151                           0.000000   \n",
       "\n",
       "            EMPLOYER_DENIED_RATE  EMPLOYER_WITHDRAWN_RATE  \n",
       "Unnamed: 0                                                 \n",
       "1365368                 0.006784                 0.048107  \n",
       "256086                  0.005305                 0.002653  \n",
       "49861                   0.000000                 0.036364  \n",
       "1356598                 0.041667                 0.020833  \n",
       "220438                  0.009849                 0.000000  \n",
       "\n",
       "[5 rows x 420 columns]"
      ]
     },
     "execution_count": 29,
     "metadata": {},
     "output_type": "execute_result"
    }
   ],
   "source": [
    "try:\n",
    "    training_data = training_data.drop(columns = ['EMPLOYER_NAME'])\n",
    "except:\n",
    "    pass\n",
    "try: \n",
    "    test_data = test_data.drop(columns = ['EMPLOYER_NAME'])\n",
    "except:\n",
    "    pass\n",
    "training_data.head()"
   ]
  },
  {
   "cell_type": "code",
   "execution_count": 49,
   "metadata": {},
   "outputs": [],
   "source": [
    "from sklearn.discriminant_analysis import LinearDiscriminantAnalysis as lda\n",
    "from sklearn.discriminant_analysis import QuadraticDiscriminantAnalysis as qda\n"
   ]
  },
  {
   "cell_type": "code",
   "execution_count": 31,
   "metadata": {},
   "outputs": [
    {
     "data": {
      "text/plain": [
       "LinearDiscriminantAnalysis()"
      ]
     },
     "execution_count": 31,
     "metadata": {},
     "output_type": "execute_result"
    }
   ],
   "source": [
    "# The training may cost about 40min. \n",
    "lda_model = lda()\n",
    "lda_model.fit(training_data, y_training)"
   ]
  },
  {
   "cell_type": "code",
   "execution_count": 43,
   "metadata": {},
   "outputs": [],
   "source": [
    "prediction = lda_model.predict(test_data)"
   ]
  },
  {
   "cell_type": "code",
   "execution_count": 44,
   "metadata": {},
   "outputs": [
    {
     "name": "stdout",
     "output_type": "stream",
     "text": [
      "0.5980714797604347 0.9155805845337159\n"
     ]
    }
   ],
   "source": [
    "from sklearn.metrics import f1_score, balanced_accuracy_score, accuracy_score\n",
    "print(f1_score(y_test, prediction, average='macro'), f1_score(y_test, prediction, average='micro'))\n"
   ]
  },
  {
   "cell_type": "code",
   "execution_count": 45,
   "metadata": {},
   "outputs": [
    {
     "name": "stdout",
     "output_type": "stream",
     "text": [
      "0.562153885277252 0.9155805845337159\n"
     ]
    }
   ],
   "source": [
    "print(balanced_accuracy_score(y_test, prediction), accuracy_score(y_test, prediction))\n"
   ]
  },
  {
   "cell_type": "code",
   "execution_count": 46,
   "metadata": {},
   "outputs": [
    {
     "name": "stdout",
     "output_type": "stream",
     "text": [
      "0.5593688672488667 0.9155992915519506\n",
      "0.5967302668758718 0.9155992915519506\n"
     ]
    }
   ],
   "source": [
    "prediction = lda_model.predict(training_data)\n",
    "print(balanced_accuracy_score(y_training, prediction),\n",
    "      accuracy_score(y_training, prediction))\n",
    "print(f1_score(y_training, prediction, average='macro'), f1_score(y_training, prediction, average='micro'))\n"
   ]
  },
  {
   "cell_type": "code",
   "execution_count": 47,
   "metadata": {},
   "outputs": [
    {
     "data": {
      "text/plain": [
       "\"\\n# load the model from disk.\\nloaded_model = pickle. load(open(filename, 'rb'))\\nresult = loaded_model. score(X_test, Y_test)\\n\""
      ]
     },
     "execution_count": 47,
     "metadata": {},
     "output_type": "execute_result"
    }
   ],
   "source": [
    "import pickle\n",
    "filename = 'lda_initial_model.sav'\n",
    "pickle.dump(lda_model, open(filename, 'wb'))\n",
    "'''\n",
    "# load the model from disk.\n",
    "loaded_model = pickle. load(open(filename, 'rb'))\n",
    "result = loaded_model. score(X_test, Y_test)\n",
    "'''\n"
   ]
  },
  {
   "cell_type": "code",
   "execution_count": 52,
   "metadata": {},
   "outputs": [],
   "source": [
    "lg = LogisticRegression(penalty='l1', solver='liblinear')\n",
    "lg.fit(training_data, y_training)\n"
   ]
  },
  {
   "cell_type": "code",
   "execution_count": null,
   "metadata": {},
   "outputs": [],
   "source": [
    "prediction = lda_model.predict(test_data)\n",
    "print(f1_score(y_test, prediction, average='macro'),\n",
    "      f1_score(y_test, prediction, average='micro'))\n",
    "print(balanced_accuracy_score(y_test, prediction),\n",
    "      accuracy_score(y_test, prediction))\n"
   ]
  },
  {
   "cell_type": "code",
   "execution_count": null,
   "metadata": {},
   "outputs": [],
   "source": [
    "prediction = lda_model.predict(training_data)\n",
    "print(balanced_accuracy_score(y_training, prediction),\n",
    "      accuracy_score(y_training, prediction))\n",
    "print(f1_score(y_training, prediction, average='macro'),\n",
    "      f1_score(y_training, prediction, average='micro'))\n"
   ]
  }
 ],
 "metadata": {
  "interpreter": {
   "hash": "40d3a090f54c6569ab1632332b64b2c03c39dcf918b08424e98f38b5ae0af88f"
  },
  "kernelspec": {
   "display_name": "Python 3.8.0 64-bit ('base': conda)",
   "name": "python3"
  },
  "language_info": {
   "codemirror_mode": {
    "name": "ipython",
    "version": 3
   },
   "file_extension": ".py",
   "mimetype": "text/x-python",
   "name": "python",
   "nbconvert_exporter": "python",
   "pygments_lexer": "ipython3",
   "version": "3.8.0"
  },
  "orig_nbformat": 4
 },
 "nbformat": 4,
 "nbformat_minor": 2
}
